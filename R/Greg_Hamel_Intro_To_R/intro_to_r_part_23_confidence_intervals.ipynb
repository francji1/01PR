{
  "cells": [
    {
      "cell_type": "markdown",
      "metadata": {
        "id": "view-in-github",
        "colab_type": "text"
      },
      "source": [
        "<a href=\"https://colab.research.google.com/github/francji1/01PR/blob/main/R/Greg_Hamel_Intro_To_R/intro_to_r_part_23_confidence_intervals.ipynb\" target=\"_parent\"><img src=\"https://colab.research.google.com/assets/colab-badge.svg\" alt=\"Open In Colab\"/></a>"
      ]
    },
    {
      "cell_type": "markdown",
      "metadata": {
        "_execution_state": "idle",
        "_uuid": "6b27cb0f04aa50f19a3c38337bf88b305364a46c",
        "id": "cUpk2Tb6WuD1"
      },
      "source": [
        "# Intro to R Part 23: Confidence Intervals\n",
        "\n",
        "source:  https://www.kaggle.com/code/hamelg/intro-to-r-index/notebook\n"
      ]
    },
    {
      "cell_type": "markdown",
      "metadata": {
        "_uuid": "4d398fc1cdab0835e4eab20c78f721a0d22233cc",
        "id": "5jUzced4WuD3"
      },
      "source": [
        "To this point, this guide has focused on the functions and syntax necessary to manipulate, explore and describe data in R. Data cleaning and exploratory analysis are often preliminary steps toward the end goal of extracting insight from data through statistical inference or predictive modeling. The remainder of this guide will focus on methods for analyzing data and tools for carrying out analyses in R.\n",
        "\n",
        "[Statistical inference](https://en.wikipedia.org/wiki/Statistical_inference) is the process of analyzing sample data to gain insight into the population from which the data was collected and to investigate differences between data samples. In data analysis, we are often interested in the characteristics of some large population, but collecting data on the entire population may be infeasible. For example, leading up to U.S. presidential elections it could be very useful to know the political leanings of every single eligible voter, but surveying every voter is not feasible. Instead, we could poll some subset of the population, such as a thousand registered voters, and use that data to make inferences about the population as a whole."
      ]
    },
    {
      "cell_type": "markdown",
      "metadata": {
        "_uuid": "c0ab09074c07755d5d14181422190357d56495c5",
        "id": "BBQ4jLEpWuD4"
      },
      "source": [
        "## Point Estimates"
      ]
    },
    {
      "cell_type": "markdown",
      "metadata": {
        "_uuid": "234e96a71a62e388dbf652599825d60b1737ac55",
        "id": "XciyPprEWuD4"
      },
      "source": [
        "[Point estimates](https://en.wikipedia.org/wiki/Point_estimation) are estimates of population parameters based on sample data. For instance, if we wanted to know the average age of registered voters in the U.S., we could take a survey of registered voters and then use the average age of the respondents as a point estimate of the average age of the population as a whole. The average of a sample is known as the sample mean.\n",
        "\n",
        "The sample mean is usually not exactly the same as the population mean. This difference can be caused by many factors including poor survey design, biased sampling methods and the randomness inherent to drawing a sample from a population. Let's investigate point estimates by generating a population of random age data and then drawing a sample from it to estimate the mean."
      ]
    },
    {
      "cell_type": "code",
      "execution_count": 1,
      "metadata": {
        "_uuid": "5a61a7b8319f16fcea30cd08646fe3031cc17918",
        "colab": {
          "base_uri": "https://localhost:8080/",
          "height": 34
        },
        "id": "TEhRRq_TWuD5",
        "outputId": "d6112506-e9a1-4169-d0b9-1fbb43d2bae9"
      },
      "outputs": [
        {
          "output_type": "display_data",
          "data": {
            "text/html": [
              "51.2188371860945"
            ],
            "text/markdown": "51.2188371860945",
            "text/latex": "51.2188371860945",
            "text/plain": [
              "[1] 51.21884"
            ]
          },
          "metadata": {}
        }
      ],
      "source": [
        "set.seed(12)\n",
        "\n",
        "# Generate a population\n",
        "population_ages <- c(rexp(1000000,0.015)+18,   \n",
        "                    rpois(500000,20)+18,\n",
        "                    rpois(500000,32.5)+18,\n",
        "                    rpois(500000,45)+18)\n",
        "\n",
        "population_ages <- ifelse(population_ages<100, \n",
        "                          population_ages, population_ages%%100+18)\n",
        "\n",
        "\n",
        "true_mean <- mean(population_ages)   # Check the population mean\n",
        "\n",
        "true_mean"
      ]
    },
    {
      "cell_type": "code",
      "execution_count": null,
      "metadata": {
        "_uuid": "1fbdf03d5cf71b853f4588b412730900b022118c",
        "id": "qKTxX-ucWuD6",
        "outputId": "f88b605f-344b-489d-8f2a-482bfa6eb1ce"
      },
      "outputs": [
        {
          "data": {
            "text/html": [
              "52.1636089223386"
            ],
            "text/latex": [
              "52.1636089223386"
            ],
            "text/markdown": [
              "52.1636089223386"
            ],
            "text/plain": [
              "[1] 52.16361"
            ]
          },
          "metadata": {},
          "output_type": "display_data"
        },
        {
          "data": {
            "text/html": [
              "0.944771736244064"
            ],
            "text/latex": [
              "0.944771736244064"
            ],
            "text/markdown": [
              "0.944771736244064"
            ],
            "text/plain": [
              "[1] 0.9447717"
            ]
          },
          "metadata": {},
          "output_type": "display_data"
        }
      ],
      "source": [
        "set.seed(10)\n",
        "\n",
        "# Take a sample of 1000 ages\n",
        "sample_ages <- sample(population_ages, size=1000)  \n",
        "\n",
        "# Make a point estimate of the mean\n",
        "sample_mean <- mean(sample_ages)            \n",
        "\n",
        "sample_mean\n",
        "\n",
        "# Check difference between estimate and population parameter\n",
        "sample_mean-true_mean   "
      ]
    },
    {
      "cell_type": "markdown",
      "metadata": {
        "_uuid": "38f958d09409b208162b6e1050e4968982a07114",
        "id": "NmdSVWyDWuD7"
      },
      "source": [
        "Our point estimate based on a sample of 1000 individuals overestimates the true population mean by almost a year, but it is pretty close. This illustrates an important point: we can get a fairly accurate estimate of a large population by sampling a relatively small subset of individuals.\n",
        "\n",
        "Another point estimate that may be of interest is the proportion of the population that belongs to some category or subgroup. For example, we might like to know the race of each voter we poll, to get a sense of the overall demographics of the voter base. You can make a point estimate of this sort of proportion by taking a sample and then checking the ratio in the sample."
      ]
    },
    {
      "cell_type": "code",
      "execution_count": null,
      "metadata": {
        "_uuid": "d237ffcedf25029fc1796bc1ef475d7f2034ff7f",
        "id": "bPyXSRoEWuD7",
        "outputId": "a15e5b09-b89f-4942-b142-3c40000fc6c5"
      },
      "outputs": [
        {
          "name": "stdout",
          "output_type": "stream",
          "text": [
            "[1] \"white  proportion estimate:\"\n",
            "[1] 0.4\n",
            "[1] \"asian  proportion estimate:\"\n",
            "[1] 0.096\n",
            "[1] \"other  proportion estimate:\"\n",
            "[1] 0.093\n",
            "[1] \"black  proportion estimate:\"\n",
            "[1] 0.207\n",
            "[1] \"hispanic  proportion estimate:\"\n",
            "[1] 0.204\n"
          ]
        }
      ],
      "source": [
        "set.seed(12)\n",
        "\n",
        " # Generate some dummy demographic data\n",
        "population_races <- c(rep(\"white\",1000000), \n",
        "                      rep(\"hispanic\",500000),\n",
        "                      rep(\"black\",500000),\n",
        "                      rep(\"asian\",250000),\n",
        "                      rep(\"other\",250000))\n",
        "\n",
        "demographic_sample <- sample(population_races, size=1000)   # Take a sample\n",
        "\n",
        "# Print the estimated proportion for each\n",
        "for (race in unique(demographic_sample)){       \n",
        "    print(paste(race,\" proportion estimate:\"))       \n",
        "    print(sum(demographic_sample==race)/1000)   \n",
        "}"
      ]
    },
    {
      "cell_type": "markdown",
      "metadata": {
        "_uuid": "65b5a48efe0075896068825969cac32ae9bd16d7",
        "id": "1VGI1OXbWuD8"
      },
      "source": [
        "*Note: The function unique() takes a vector and returns a new vector with duplicate elements removed.*"
      ]
    },
    {
      "cell_type": "markdown",
      "metadata": {
        "_uuid": "3f09733c41a14001ad9e90face0901e067fb1cab",
        "id": "ZdzSTj-HWuD9"
      },
      "source": [
        "## Sampling Distributions and The Central Limit Theorem"
      ]
    },
    {
      "cell_type": "markdown",
      "metadata": {
        "_uuid": "35bbc3de1bf23c7cebc2331da1b643e069f89b96",
        "id": "9Py1G7MaWuD-"
      },
      "source": [
        "Many statistical procedures assume that data follows a normal distribution, because the normal distribution has nice properties like symmetricity and having the majority of the data clustered within a few standard deviations of the mean. Unfortunately, real world data is often not normally distributed and the distribution of a sample tends to mirror the distribution of the population. This means a sample taken from a population with a skewed distribution will also tend to be skewed. Let's investigate by plotting the data and sample we created earlier and by checking the skew."
      ]
    },
    {
      "cell_type": "code",
      "execution_count": null,
      "metadata": {
        "_uuid": "9e0752a7495cb999a083cc5cf0b3d2c565e7ff39",
        "id": "cnlgNPpoWuD-",
        "outputId": "5b9ed886-6df8-4638-c0ad-f8796b5548af"
      },
      "outputs": [
        {
          "data": {
            "text/html": [
              "0.655602782446446"
            ],
            "text/latex": [
              "0.655602782446446"
            ],
            "text/markdown": [
              "0.655602782446446"
            ],
            "text/plain": [
              "[1] 0.6556028"
            ]
          },
          "metadata": {},
          "output_type": "display_data"
        },
        {
          "data": {
            "image/png": "[encoded data removed]"
          },
          "metadata": {},
          "output_type": "display_data"
        }
      ],
      "source": [
        "library(e1071)\n",
        "\n",
        "hist(population_ages, breaks=20)  # Create histogram of population\n",
        "\n",
        "skewness(population_ages)         # Check the skewness"
      ]
    },
    {
      "cell_type": "markdown",
      "metadata": {
        "_uuid": "65c54f125a665740bfd1f99091fde331ba31f7c6",
        "id": "61P2qGsIWuD_"
      },
      "source": [
        "The histogram shows a distribution with right skew, which is confirmed by the skewness measurement of 0.6556. The sample we draw should have roughly the same shape and skewness."
      ]
    },
    {
      "cell_type": "code",
      "execution_count": null,
      "metadata": {
        "_uuid": "f627066077589a4977f63727f3b6914a2083a401",
        "id": "4WkmEjEKWuD_",
        "outputId": "0f9c7d9c-66a8-4324-c8b8-6a2a2664473e"
      },
      "outputs": [
        {
          "data": {
            "text/html": [
              "0.670960675526386"
            ],
            "text/latex": [
              "0.670960675526386"
            ],
            "text/markdown": [
              "0.670960675526386"
            ],
            "text/plain": [
              "[1] 0.6709607"
            ]
          },
          "metadata": {},
          "output_type": "display_data"
        },
        {
          "data": {
            "image/png": "[encoded data removed]"
          },
          "metadata": {},
          "output_type": "display_data"
        }
      ],
      "source": [
        "hist(sample_ages, breaks=20)   # Create histogram of the sample\n",
        "\n",
        "skewness(sample_ages)          # Check the skewness (point estimate of skewness)"
      ]
    },
    {
      "cell_type": "markdown",
      "metadata": {
        "_uuid": "549bb3973e0052c165209c8d083a4aa9c5b9cbb6",
        "id": "XZQYu51fWuEA"
      },
      "source": [
        "The sample has roughly the same skew as the underlying population. This suggests that we can't apply techniques that assume a normal distribution to this data set. In reality, we can, thanks the central limit theorem.\n",
        "\n",
        "The central limit theorem is one of the most important results of probability theory and serves as the foundation of many methods of statistical analysis. At a high level, the theorem states the distribution of many sample means, known as a sampling distribution, will be normally distributed. This rule holds even if the underlying distribution itself is not normally distributed. As a result we can treat our a sample mean as if it were drawn normal distribution.\n",
        "\n",
        "To illustrate, let's create a sampling distribution by taking 200 samples from our population and then making 200 point estimates of the mean."
      ]
    },
    {
      "cell_type": "code",
      "execution_count": null,
      "metadata": {
        "_uuid": "48d823a57c0b736ae36c2ce77369bd7a0c2fe587",
        "id": "v2hOBFNdWuEA",
        "outputId": "5bb43c9c-4163-4a63-8b2c-fb14d2ae81d5"
      },
      "outputs": [
        {
          "data": {
            "image/png": "[encoded data removed]"
          },
          "metadata": {},
          "output_type": "display_data"
        }
      ],
      "source": [
        "set.seed(12)\n",
        "point_estimates <- c()    # Create an empty vector to hold results\n",
        "\n",
        "num_samples <- 200        # Initialize number of samples to take\n",
        "\n",
        " # Draw 200 samples and make 200 point estimates\n",
        "for (x in 1:num_samples){         \n",
        "    sample <- sample(population_ages, size=1000)\n",
        "    point_estimates <- c(point_estimates, mean(sample))\n",
        "}\n",
        "\n",
        "plot(density(point_estimates))  # Plot the sampling distribution"
      ]
    },
    {
      "cell_type": "markdown",
      "metadata": {
        "_uuid": "df05fbde355ede6c0259edc6822dd19db3f65edf",
        "id": "q6Jyck4iWuEB"
      },
      "source": [
        "The sampling distribution appears to be roughly normal, having significantly less skew than the original distribution:"
      ]
    },
    {
      "cell_type": "code",
      "execution_count": null,
      "metadata": {
        "_uuid": "c0f8190ed02c9c7d102396ae3ae6ac05934fa793",
        "id": "r83s0yRSWuEB",
        "outputId": "d9fd6b01-2a24-40c0-a899-d571c5b86df7"
      },
      "outputs": [
        {
          "data": {
            "text/html": [
              "-0.0130738593557109"
            ],
            "text/latex": [
              "-0.0130738593557109"
            ],
            "text/markdown": [
              "-0.0130738593557109"
            ],
            "text/plain": [
              "[1] -0.01307386"
            ]
          },
          "metadata": {},
          "output_type": "display_data"
        }
      ],
      "source": [
        "skewness(point_estimates)"
      ]
    },
    {
      "cell_type": "markdown",
      "metadata": {
        "_uuid": "92fdaf0212097e4954394fa3323ef0c8cf1096a6",
        "id": "N_sm4OfjWuEB"
      },
      "source": [
        "In addition, the mean of the sampling distribution approaches the true population mean:"
      ]
    },
    {
      "cell_type": "code",
      "execution_count": null,
      "metadata": {
        "_uuid": "87321bee972cd5d99273bedfacfa2d564cd96866",
        "id": "22gRtHCZWuEB",
        "outputId": "4634e1bc-4e3d-4334-aae3-50dc28131ffe"
      },
      "outputs": [
        {
          "data": {
            "text/html": [
              "51.2249750096931"
            ],
            "text/latex": [
              "51.2249750096931"
            ],
            "text/markdown": [
              "51.2249750096931"
            ],
            "text/plain": [
              "[1] 51.22498"
            ]
          },
          "metadata": {},
          "output_type": "display_data"
        },
        {
          "data": {
            "text/html": [
              "0.00613782359863535"
            ],
            "text/latex": [
              "0.00613782359863535"
            ],
            "text/markdown": [
              "0.00613782359863535"
            ],
            "text/plain": [
              "[1] 0.006137824"
            ]
          },
          "metadata": {},
          "output_type": "display_data"
        }
      ],
      "source": [
        "mean(point_estimates)\n",
        "\n",
        "mean(point_estimates)-true_mean    # Difference between true mean and sample means"
      ]
    },
    {
      "cell_type": "markdown",
      "metadata": {
        "_uuid": "0e6d5d74d5799139b92387f7f5bccd9f008f202b",
        "id": "qil8M4rCWuEC"
      },
      "source": [
        "The more samples we take, the better our estimate of the population parameter is likely to be."
      ]
    },
    {
      "cell_type": "markdown",
      "metadata": {
        "_uuid": "90740c1f9910547ece40c5c31e08a1758a419d78",
        "id": "XviEd0SuWuEC"
      },
      "source": [
        "## Confidence Intervals"
      ]
    },
    {
      "cell_type": "markdown",
      "metadata": {
        "_uuid": "8844f4be78d9e81122219aabd2fb9ee7aca74fba",
        "id": "wMJGG3OdWuEC"
      },
      "source": [
        "A point estimate can give you a rough idea of a population parameter like the mean, but estimates are prone to error and taking multiple samples to get improved estimates may not be feasible. A confidence interval is a range of values above and below a point estimate that captures the true population parameter at some predetermined confidence level. For example, if you want to have a 95% chance of capturing the true population parameter with a point estimate and a corresponding confidence interval, you'd set your confidence level to 95%. Higher confidence levels result in a wider confidence intervals.\n",
        "\n",
        "Calculate a confidence interval by taking a point estimate and then adding and subtracting a margin of error to create a range. Margin of error is based on your desired confidence level, the spread of the data and the size of your sample. The way you calculate the margin of error depends on whether you know the standard deviation of the population or not.\n",
        "\n",
        "If you know the standard deviation of the population, the margin of error is equal to: \n",
        "\n",
        "$$z * \\frac{\\sigma}{\\sqrt{n}}$$\n",
        "\n",
        "Where σ is the population standard deviation, n is sample size, and z is a number known as the z-critical value. The z-critical value is the number of standard deviations you'd have to go from the mean of the normal distribution to capture the proportion of the data associated with the desired confidence level. For instance, we know that roughly 95% of the data in a normal distribution lies within 2 standard deviations of the mean, so we could use 2 as the z-critical value for a 95% confidence interval (although it is more exact to get z-critical values with qnorm().).\n",
        "\n",
        "Let's calculate a 95% confidence for our mean point estimate in R."
      ]
    },
    {
      "cell_type": "code",
      "execution_count": null,
      "metadata": {
        "_uuid": "03895ad24b40b5e0a23fbe5fd0728048df1f983e",
        "id": "40VVafv1WuED",
        "outputId": "7754e04d-57ee-4e00-d5d2-ca8b13e060c7"
      },
      "outputs": [
        {
          "name": "stdout",
          "output_type": "stream",
          "text": [
            "[1] \"z-critical value:\"\n",
            "[1] 1.959964\n",
            "[1] \"Confidence interval:\"\n",
            "[1] 51.05476 53.27245\n"
          ]
        }
      ],
      "source": [
        "set.seed(10)\n",
        "sample_size <- 1000\n",
        "sample_ages <- sample(population_ages, size=sample_size)  # Take a sample of 1000 ages\n",
        "\n",
        "sample_mean <- mean(sample_ages)  # Get the sample mean\n",
        "\n",
        "z_critical <- qnorm(0.975)        # Get the z-critical value*\n",
        "\n",
        "print(\"z-critical value:\")\n",
        "print(z_critical)                 # Check the z-critical value\n",
        "\n",
        "pop_stdev <- sd(population_ages)  # Get the population standard deviation\n",
        "\n",
        "margin_of_error <- z_critical * (pop_stdev / sqrt(sample_size)) # Get margin of error\n",
        "\n",
        "confidence_interval  <- c(sample_mean - margin_of_error,  # Calculate the the interval\n",
        "                          sample_mean + margin_of_error)  \n",
        "\n",
        "print(\"Confidence interval:\")\n",
        "print(confidence_interval   )     # Check the interval"
      ]
    },
    {
      "cell_type": "markdown",
      "metadata": {
        "_uuid": "a81ccc247d48b08258ac95d38a0d9d852ee2cb9a",
        "id": "jCDPNkxCWuED"
      },
      "source": [
        "*Note: We use qnorm(0.975) to get the desired z critical value instead of qnorm(0.95) because the distribution has two tails. Notice that the confidence interval we calculated captures the true population mean of 51.2188.*\n",
        "\n",
        "Let's create several confidence intervals and plot them to get a better sense of what it means to \"capture\" the true mean."
      ]
    },
    {
      "cell_type": "code",
      "execution_count": null,
      "metadata": {
        "_uuid": "907a4939cc677b919d26e515ffcd46bb338330da",
        "id": "POYEugnWWuED"
      },
      "outputs": [],
      "source": [
        "set.seed(12)\n",
        "sample_size <- 1000\n",
        "\n",
        "intervals <- c()  # Create and store 25 intervals\n",
        " \n",
        "for (sample in 1:25){\n",
        "sample_ages <- sample(population_ages, size=sample_size)  # Take a sample of 1000 ages\n",
        "\n",
        "sample_mean <- mean(sample_ages)  # Get the sample mean\n",
        "\n",
        "z_critical <- qnorm(0.975)        # Get the z-critical value*\n",
        "\n",
        "pop_stdev <- sd(population_ages)  # Get the population standard deviation\n",
        "\n",
        "margin_of_error <- z_critical * (pop_stdev / sqrt(sample_size)) # Calculate margin of error\n",
        "\n",
        "confidence_interval  <- c(sample_mean - margin_of_error,  # Calculate the the interval\n",
        "                          sample_mean + margin_of_error)  \n",
        "\n",
        "intervals <- c(intervals, confidence_interval)    \n",
        "}\n",
        "\n",
        "interval_df <- data.frame(t(matrix(intervals,2,25)))  # Store intervals as data frame"
      ]
    },
    {
      "cell_type": "code",
      "execution_count": null,
      "metadata": {
        "_uuid": "70e0bf2b3b84db248581b2198efd5a7174f258ec",
        "id": "tqbJFyMKWuEE",
        "outputId": "2af8e92f-99a9-4fa9-813a-a541c95b2203"
      },
      "outputs": [
        {
          "data": {
            "image/png": "[encoded data removed]"
          },
          "metadata": {},
          "output_type": "display_data"
        }
      ],
      "source": [
        "library(ggplot2)\n",
        "\n",
        "\n",
        "# Plot confidence intervals and show the true mean\n",
        "\n",
        "my_plot <- ggplot(data=interval_df, aes(x=1:nrow(interval_df))) +\n",
        "                geom_errorbar(aes(ymax = X2, ymin = X1)) +\n",
        "                geom_point(aes(y=rowMeans(interval_df)), shape=1, size=3) +\n",
        "                geom_abline(intercept=true_mean, slope=0,color=\"red\",lwd=1) +\n",
        "                ylab(\"Interval Range (Red Line=True Mean)\") +\n",
        "                xlab(\"Interval Number\")\n",
        "\n",
        "my_plot"
      ]
    },
    {
      "cell_type": "markdown",
      "metadata": {
        "_uuid": "f92285c2d2de781ded7aa8045d8ebc26cd9bcc70",
        "id": "mBjKrkqvWuEE"
      },
      "source": [
        "Notice that in the plot above, all but one of the 95% confidence intervals overlap the red line marking the true mean. This is to be expected: since a 95% confidence interval captures the true mean 95% of the time, we'd expect our interval to miss the true mean 5% of the time.\n",
        "\n",
        "If you don't know the standard deviation of the population, you have to use the standard deviation of your sample as a stand in when creating confidence intervals. Since the sample standard deviation may not match the population parameter the interval will have more error when you don't know the population standard deviation. To account for this error, we use what's known as a t-critical value instead of the z-critical value. The t-critical value is drawn from what's known as a t-distribution--a distribution that closely resembles the normal distribution but that gets wider and wider as the sample size falls. The t-distribution is built into R and has the nickname \"t\" so the functions for working with it are rt(), qt(), pt() and dt().\n",
        "\n",
        "Let's take a new, smaller sample and then create a confidence interval without the population standard deviation, using the t-distribution."
      ]
    },
    {
      "cell_type": "code",
      "execution_count": null,
      "metadata": {
        "_uuid": "9e2be8cd72053152e12e1872b6ba190ee1a6932e",
        "id": "efqXYBt5WuEE",
        "outputId": "fe76bb07-d3ed-4373-aa26-4a269c1fe835"
      },
      "outputs": [
        {
          "name": "stdout",
          "output_type": "stream",
          "text": [
            "[1] \"t-critical value:\"\n",
            "[1] 2.063899\n",
            "[1] \"Confidence interval:\"\n",
            "[1] 43.0648 64.3763\n"
          ]
        }
      ],
      "source": [
        "set.seed(12)\n",
        "smaller_sample <- sample(population_ages, size=25)  \n",
        "\n",
        "sample_mean <- mean(smaller_sample) # Get the sample mean\n",
        "\n",
        "t_critical <- qt(0.975, df=24)      # Get the t-critical value *\n",
        "\n",
        "print(\"t-critical value:\")\n",
        "print(t_critical)                   # Check the t-critical value\n",
        "\n",
        "sample_stdev <- sd(smaller_sample)  # Get the sample standard deviation\n",
        "\n",
        "margin_of_error <- t_critical * (sample_stdev / sqrt(25)) # Calculate margin of error\n",
        "\n",
        "confidence_interval  <- c(sample_mean - margin_of_error,  # Calculate the the interval\n",
        "                          sample_mean + margin_of_error) \n",
        "\n",
        "print(\"Confidence interval:\")\n",
        "print(confidence_interval)"
      ]
    },
    {
      "cell_type": "markdown",
      "metadata": {
        "_uuid": "b794a5984b6ececec5c0226a34e142c2cd20e831",
        "id": "4h3-sxIdWuEF"
      },
      "source": [
        "*Note: when using the t-distribution, you have to supply the degrees of freedom (df). For this type of test, the degrees of freedom is equal to the sample size minus 1. If you have a large sample size, the t-distribution approaches the normal distribution.*\n",
        "\n",
        "Notice that the t-critical value is larger than the z-critical value we used for 95% confidence interval. This allows the confidence interval to cast a larger net to make up for the variability caused by using the sample standard deviation in place of the population standard deviation. The end result is a much wider confidence interval (an interval with a larger margin of error.).\n",
        "\n",
        "If you have a large sample, the t-critical value will approach the z-critical value so there is little difference between using the normal distribution vs. the t-distribution."
      ]
    },
    {
      "cell_type": "code",
      "execution_count": null,
      "metadata": {
        "_uuid": "551df119ffcc218e847970adec4c4e9a4eb28f49",
        "id": "wNZJU1AjWuEF",
        "outputId": "db012074-4615-4880-9772-2ffbb2f83eda"
      },
      "outputs": [
        {
          "data": {
            "text/html": [
              "1.95996398454005"
            ],
            "text/latex": [
              "1.95996398454005"
            ],
            "text/markdown": [
              "1.95996398454005"
            ],
            "text/plain": [
              "[1] 1.959964"
            ]
          },
          "metadata": {},
          "output_type": "display_data"
        },
        {
          "data": {
            "text/html": [
              "1.96234146113345"
            ],
            "text/latex": [
              "1.96234146113345"
            ],
            "text/markdown": [
              "1.96234146113345"
            ],
            "text/plain": [
              "[1] 1.962341"
            ]
          },
          "metadata": {},
          "output_type": "display_data"
        }
      ],
      "source": [
        "# Check the difference between critical values with a sample size of 1000\n",
        "qnorm(0.975)                \n",
        "qt(0.975, df= 999)"
      ]
    },
    {
      "cell_type": "markdown",
      "metadata": {
        "_uuid": "bf0ae59d820eea28099e3defd6d49cad83973eb5",
        "id": "5UruUkEBWuEF"
      },
      "source": [
        "Instead of calculating a confidence interval for a mean point estimate by hand, you can have R calculate it for you using the t.test() function."
      ]
    },
    {
      "cell_type": "code",
      "execution_count": null,
      "metadata": {
        "_uuid": "85ce9f933f275ab523d48db08128d5dd8f0dbef3",
        "id": "9SRcDry3WuEF",
        "outputId": "893da238-58c0-4020-b8bd-f735a9aecb56"
      },
      "outputs": [
        {
          "data": {
            "text/plain": [
              "\n",
              "\tOne Sample t-test\n",
              "\n",
              "data:  smaller_sample\n",
              "t = 10.405, df = 24, p-value = 2.251e-10\n",
              "alternative hypothesis: true mean is not equal to 0\n",
              "95 percent confidence interval:\n",
              " 43.0648 64.3763\n",
              "sample estimates:\n",
              "mean of x \n",
              " 53.72055 \n"
            ]
          },
          "metadata": {},
          "output_type": "display_data"
        }
      ],
      "source": [
        "t.test(smaller_sample)"
      ]
    },
    {
      "cell_type": "markdown",
      "metadata": {
        "_uuid": "6683ace9e820d568a38af5c654f59d8f276f1f87",
        "id": "vr_VhSuiWuEG"
      },
      "source": [
        "Notice that the test output includes a 95% confidence interval that matches the result we calculated (we'll discuss t.test() in more detail in the next lesson).\n",
        "\n",
        "We can also make a confidence interval for a point estimate of a population proportion. In this case, the margin of error equals:\n",
        "\n",
        "$$z * \\sqrt{\\frac{p(1-p)}{n}}$$\n",
        "\n",
        "Where z is the z-critical value for our confidence level, p is the point estimate of the population proportion and n is the sample size. Let's calculate a 95% confidence interval for Hispanics according to the sample proportion we calculated earlier (0.204)."
      ]
    },
    {
      "cell_type": "code",
      "execution_count": null,
      "metadata": {
        "_uuid": "34ccfaee38b1cb045075bfeee9b7a895ae895f5f",
        "id": "h-3PexvRWuEG",
        "outputId": "e40a0cd9-acac-486b-c487-8f24c4cb09e3"
      },
      "outputs": [
        {
          "data": {
            "text/html": [
              "<ol class=list-inline>\n",
              "\t<li>0.179024182713281</li>\n",
              "\t<li>0.228975817286719</li>\n",
              "</ol>\n"
            ],
            "text/latex": [
              "\\begin{enumerate*}\n",
              "\\item 0.179024182713281\n",
              "\\item 0.228975817286719\n",
              "\\end{enumerate*}\n"
            ],
            "text/markdown": [
              "1. 0.179024182713281\n",
              "2. 0.228975817286719\n",
              "\n",
              "\n"
            ],
            "text/plain": [
              "[1] 0.1790242 0.2289758"
            ]
          },
          "metadata": {},
          "output_type": "display_data"
        }
      ],
      "source": [
        "z_critical <- qnorm(0.975)    # Record z-critical value\n",
        "\n",
        "p <- 0.204                    # Point estimate of proportion\n",
        "\n",
        "n <- 1000                     # Sample size\n",
        "\n",
        "margin_of_error <- z_critical * sqrt((p*(1-p))/n)\n",
        "\n",
        "confidence_interval  <- c(p - margin_of_error,  # Calculate the the interval\n",
        "                          p + margin_of_error) \n",
        "\n",
        "confidence_interval"
      ]
    },
    {
      "cell_type": "markdown",
      "metadata": {
        "_uuid": "ddf55c90d9db6b2ea0487c4908836d034bef1b85",
        "id": "wbzzmo4CWuEG"
      },
      "source": [
        "Once again, the confidence interval captured the true population parameter of 0.2.\n",
        "\n",
        "As with the confidence interval for the mean, you can use a built in R function to get a confidence interval for a population proportion instead of calculating it by hand. In this case, we use the prop.test() function."
      ]
    },
    {
      "cell_type": "code",
      "execution_count": null,
      "metadata": {
        "_uuid": "d15e15b49a4eda0af3347b76095c8cda61ee3a5f",
        "id": "uWh3gjl6WuEG",
        "outputId": "b8dece73-c46a-49d6-8a5b-b8b210c97288"
      },
      "outputs": [
        {
          "data": {
            "text/plain": [
              "\n",
              "\t1-sample proportions test with continuity correction\n",
              "\n",
              "data:  204 out of 1000, null probability 0.5\n",
              "X-squared = 349.28, df = 1, p-value < 2.2e-16\n",
              "alternative hypothesis: true p is not equal to 0.5\n",
              "95 percent confidence interval:\n",
              " 0.1797036 0.2306071\n",
              "sample estimates:\n",
              "    p \n",
              "0.204 \n"
            ]
          },
          "metadata": {},
          "output_type": "display_data"
        }
      ],
      "source": [
        "prop.test(x=204,      # Number of observations\n",
        "          n=1000)     # Total number of samples"
      ]
    },
    {
      "cell_type": "markdown",
      "metadata": {
        "_uuid": "71e1247facf841cc4bbdc74973e768df5912ca12",
        "id": "thYmwCuyWuEG"
      },
      "source": [
        "In the output above, note that the 95% confidence interval listed roughly matches the one we calculated."
      ]
    },
    {
      "cell_type": "markdown",
      "metadata": {
        "_uuid": "1408097e8462804aec4d4890bc545e0470da5470",
        "id": "XVzRN8vyWuEH"
      },
      "source": [
        "## Wrap Up"
      ]
    },
    {
      "cell_type": "markdown",
      "metadata": {
        "_uuid": "7ad21f34b82ad87b24210b9cba90f7ab88639e6f",
        "id": "Hh6wM_DZWuEH"
      },
      "source": [
        "Estimating population parameters through sampling is a simple, yet powerful form of inference. Point estimates combined with error margins let us create confidence intervals that capture the true population parameter with high probability. R's built in probability distribution and test functions make it easy to calculate confidence intervals quickly.\n",
        "\n",
        "Next time we'll expand on the concepts in this lesson by learning about statistical hypothesis testing and the t-test."
      ]
    },
    {
      "cell_type": "markdown",
      "metadata": {
        "_uuid": "ab2351178bd0a91c85daafebed855dd2fd41e5e3",
        "id": "Kh36p4UEWuEI"
      },
      "source": [
        "## Next Lesson: [Intro to R Part 24: Hypothesis Testing](https://www.kaggle.com/hamelg/intro-to-r-part-24-hypothesis-testing)\n",
        "[back to index](https://www.kaggle.com/hamelg/intro-to-r-index)"
      ]
    },
    {
      "cell_type": "markdown",
      "metadata": {
        "_uuid": "7075033a9026b2cdef262a3b0e2d2e54d8794748",
        "id": "KmSezoufWuEI"
      },
      "source": []
    },
    {
      "cell_type": "markdown",
      "metadata": {
        "_uuid": "fe5062574a10cf5cb69021a70ab6f93e17d5732a",
        "id": "UiGAv5IhWuEI"
      },
      "source": [
        "## Exercises\n",
        "\n",
        "To do the exercises, fork this notebook and then fill in and run the code boxes according to the exercise instructions."
      ]
    },
    {
      "cell_type": "markdown",
      "metadata": {
        "_uuid": "a1158418a5bd691da1378c34049d31dfd9b85f94",
        "id": "MkQDMS-CWuEI"
      },
      "source": [
        "### Exercise #1\n",
        "Load the Titanic data set and make a point estimate for the population mean of the Age column by taking a sample of 40 passengers. Then calculate the difference between your sample mean and the true mean. Remember to include the argument na.rm = TRUE when using the mean() function on Age to ignore NA values."
      ]
    },
    {
      "cell_type": "code",
      "execution_count": null,
      "metadata": {
        "_kg_hide-output": true,
        "_uuid": "fff1a2a0dac63895b39a0cae7f0543c38a3a65b2",
        "id": "lDlJ-ZoJWuEI",
        "outputId": "ec23bd33-dd8a-465f-9d96-52e42d3f9d67"
      },
      "outputs": [
        {
          "name": "stdout",
          "output_type": "stream",
          "text": [
            "[1] \"Point Estimate\"\n",
            "[1] \"Your Code Here\"\n",
            "[1] \"Mean Difference\"\n",
            "[1] \"Your Code Here\"\n"
          ]
        }
      ],
      "source": [
        "set.seed(12)\n",
        "titanic_train <- read.csv(\"../input/train.csv\")\n",
        "\n",
        "age_sample <- \"Your Code Here\"\n",
        "\n",
        "point_estimate <- \"Your Code Here\"\n",
        "\n",
        "#Print sample mean\n",
        "print(\"Point Estimate\")\n",
        "print(point_estimate)\n",
        "\n",
        "# Print difference between sample mean and true mean\n",
        "print(\"Mean Difference\")\n",
        "print(\"Your Code Here\")"
      ]
    },
    {
      "cell_type": "markdown",
      "metadata": {
        "_uuid": "915483ee807b092e2eda52f068594383ba7b6b90",
        "id": "Svcv5XFQWuEJ"
      },
      "source": [
        "### Exercise #2\n",
        "Calculate the margin of error for the point estimate for a 95% confidence interval. Use the t distribution. Note that since NA values were removed in calculating the point estimate the sample size is actually 40 minus the number of NA values in the sample."
      ]
    },
    {
      "cell_type": "code",
      "execution_count": null,
      "metadata": {
        "_kg_hide-output": true,
        "_uuid": "227db923fbed173b47e9f477ed2b57a1e2b50d97",
        "id": "ECyGquWLWuEJ",
        "outputId": "52813b32-bd8c-4bf3-b70e-534c59cdb3b4"
      },
      "outputs": [
        {
          "ename": "ERROR",
          "evalue": "Error in 40 - \"Your Code Here\": non-numeric argument to binary operator\n",
          "output_type": "error",
          "traceback": [
            "Error in 40 - \"Your Code Here\": non-numeric argument to binary operator\nTraceback:\n"
          ]
        }
      ],
      "source": [
        "true_sample_size <- 40 - \"Your Code Here\"\n",
        "\n",
        "t_critical <- qt(\"Your Code Here\", df = true_sample_size)\n",
        "\n",
        "margin_of_error <- t_critical * \"Your Code Here\"\n",
        "\n",
        "print(\"Margin of Error\")\n",
        "print(margin_of_error)"
      ]
    },
    {
      "cell_type": "markdown",
      "metadata": {
        "_uuid": "56f3469f0f92c59b3265893d99f2fa4603e84273",
        "id": "ozK5gJ50WuEJ"
      },
      "source": [
        "### Exercise #3\n",
        "Calculate and print a 95% confidence interval for the mean of age using the point estimate and margin of error you calculated above. Make sure that your confidence interval match the one produced by the call to t.test(age_sample)."
      ]
    },
    {
      "cell_type": "code",
      "execution_count": null,
      "metadata": {
        "_kg_hide-output": true,
        "_uuid": "e61bc093042a8c19f4f176f2b06a58b463a7c160",
        "id": "_fvipZlGWuEJ",
        "outputId": "d39bbdc6-7510-4ae9-e9ea-1730b23800d1"
      },
      "outputs": [
        {
          "name": "stdout",
          "output_type": "stream",
          "text": [
            "[1] \"Confidence Interval\"\n",
            "[1] \"Your Code Here!\" \"Your Code Here!\"\n"
          ]
        },
        {
          "name": "stderr",
          "output_type": "stream",
          "text": [
            "Warning message in mean.default(x):\n",
            "“argument is not numeric or logical: returning NA”Warning message in var(x):\n",
            "“NAs introduced by coercion”"
          ]
        },
        {
          "ename": "ERROR",
          "evalue": "Error in t.test.default(age_sample): not enough 'x' observations\n",
          "output_type": "error",
          "traceback": [
            "Error in t.test.default(age_sample): not enough 'x' observations\nTraceback:\n",
            "1. t.test(age_sample)",
            "2. t.test.default(age_sample)",
            "3. stop(\"not enough 'x' observations\")"
          ]
        }
      ],
      "source": [
        "print(\"Confidence Interval\")\n",
        "print(c(\"Your Code Here!\",\n",
        "        \"Your Code Here!\"))\n",
        "\n",
        "\n",
        "t.test(age_sample)"
      ]
    },
    {
      "cell_type": "markdown",
      "metadata": {
        "_uuid": "9e3106f3e7be8320dfbfd2019cddd434379aaf62",
        "id": "eL3fv5jhWuEK"
      },
      "source": [
        "## Exercise Solutions"
      ]
    },
    {
      "cell_type": "code",
      "execution_count": null,
      "metadata": {
        "_kg_hide-input": true,
        "_kg_hide-output": true,
        "_uuid": "4a858bf9202378f9ebd068f610cc084baaec0bc2",
        "id": "_X3kse6VWuEK",
        "outputId": "4f8ec9fb-8dc1-4360-ff52-c038fab53d93"
      },
      "outputs": [
        {
          "name": "stdout",
          "output_type": "stream",
          "text": [
            "[1] \"Point Estimate\"\n",
            "[1] 30.84375\n",
            "[1] \"Mean Difference\"\n",
            "[1] -1.144632\n",
            "[1] \"Margin of Error\"\n",
            "[1] 4.396747\n",
            "[1] \"Confidence Interval\"\n",
            "[1] 26.4470 35.2405\n"
          ]
        },
        {
          "data": {
            "text/plain": [
              "\n",
              "\tOne Sample t-test\n",
              "\n",
              "data:  age_sample\n",
              "t = 14.307, df = 31, p-value = 3.356e-15\n",
              "alternative hypothesis: true mean is not equal to 0\n",
              "95 percent confidence interval:\n",
              " 26.4470 35.2405\n",
              "sample estimates:\n",
              "mean of x \n",
              " 30.84375 \n"
            ]
          },
          "metadata": {},
          "output_type": "display_data"
        }
      ],
      "source": [
        "# 1 \n",
        "\n",
        "set.seed(12)\n",
        "titanic_train <- read.csv(\"../input/train.csv\")\n",
        "\n",
        "age_sample <- sample(titanic_train$Age, 40)\n",
        "\n",
        "point_estimate <- mean(age_sample, na.rm=TRUE)\n",
        "\n",
        "#Print sample mean\n",
        "print(\"Point Estimate\")\n",
        "print(point_estimate)\n",
        "\n",
        "# Print difference between sample mean and true mean\n",
        "print(\"Mean Difference\")\n",
        "print(mean(titanic_train$Age, na.rm=TRUE) - point_estimate)\n",
        "\n",
        "\n",
        "# 2 \n",
        "\n",
        "t_critical <- qt(0.975, df = 31)\n",
        "\n",
        "margin_of_error <- t_critical * (sd(age_sample, na.rm=T) / sqrt(32))\n",
        "\n",
        "print(\"Margin of Error\")\n",
        "print(margin_of_error)\n",
        "\n",
        "# 3\n",
        "\n",
        "print(\"Confidence Interval\")\n",
        "print(c(point_estimate-margin_of_error,\n",
        "       point_estimate+margin_of_error))\n",
        "\n",
        "\n",
        "t.test(age_sample)"
      ]
    }
  ],
  "metadata": {
    "kernelspec": {
      "display_name": "R",
      "language": "R",
      "name": "ir"
    },
    "language_info": {
      "codemirror_mode": "r",
      "file_extension": ".r",
      "mimetype": "text/x-r-source",
      "name": "R",
      "pygments_lexer": "r",
      "version": "3.4.2"
    },
    "colab": {
      "provenance": [],
      "include_colab_link": true
    }
  },
  "nbformat": 4,
  "nbformat_minor": 0
}