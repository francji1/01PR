{
  "cells": [
    {
      "cell_type": "markdown",
      "metadata": {
        "id": "view-in-github",
        "colab_type": "text"
      },
      "source": [
        "<a href=\"https://colab.research.google.com/github/francji1/01PR/blob/main/R/Greg_Hamel_Intro_To_R/intro_to_r_part_21_descriptive_statistics.ipynb\" target=\"_parent\"><img src=\"https://colab.research.google.com/assets/colab-badge.svg\" alt=\"Open In Colab\"/></a>"
      ]
    },
    {
      "cell_type": "markdown",
      "metadata": {
        "_execution_state": "idle",
        "_uuid": "6b27cb0f04aa50f19a3c38337bf88b305364a46c",
        "id": "LP7NFu2XVsiV"
      },
      "source": [
        "# Intro to R Part 21: Descriptive Statistics\n",
        "\n",
        "source:  https://www.kaggle.com/code/hamelg/intro-to-r-index/notebook"
      ]
    },
    {
      "cell_type": "markdown",
      "metadata": {
        "_uuid": "4d398fc1cdab0835e4eab20c78f721a0d22233cc",
        "id": "pn6Xs1hpVsiW"
      },
      "source": [
        "Descriptive statistics are measures that summarize important features of data, often with a single number. Producing descriptive statistics is a common first step to take after cleaning and preparing a data set for analysis. We've already seen several examples of deceptive statistics in earlier lessons, such as means and medians. In this lesson, we'll review some of these functions and explore several new ones."
      ]
    },
    {
      "cell_type": "markdown",
      "metadata": {
        "_uuid": "c0ab09074c07755d5d14181422190357d56495c5",
        "id": "bafIPFR6VsiX"
      },
      "source": [
        "# Measures of Center"
      ]
    },
    {
      "cell_type": "markdown",
      "metadata": {
        "_uuid": "234e96a71a62e388dbf652599825d60b1737ac55",
        "id": "htrb6_XvVsiX"
      },
      "source": [
        "Measures of center are statistics that give us a sense of the \"middle\" of a numeric variable. In other words, centrality measures give you a sense of a typical value you'd expect to see. Common measures of center include the mean, median and mode.\n",
        "\n",
        "The mean is simply an average: the sum of the values divided by the total number of records. As we've seen before, there are several ways to get means in R."
      ]
    },
    {
      "cell_type": "code",
      "execution_count": 1,
      "metadata": {
        "_uuid": "5a61a7b8319f16fcea30cd08646fe3031cc17918",
        "colab": {
          "base_uri": "https://localhost:8080/",
          "height": 34
        },
        "id": "bJHzRbtaVsiY",
        "outputId": "869a0cad-13e5-45f6-a8c4-579543dde43f"
      },
      "outputs": [
        {
          "output_type": "display_data",
          "data": {
            "text/html": [
              "20.090625"
            ],
            "text/markdown": "20.090625",
            "text/latex": "20.090625",
            "text/plain": [
              "[1] 20.09062"
            ]
          },
          "metadata": {}
        }
      ],
      "source": [
        "cars <- mtcars      # Use the mtcars data set\n",
        "\n",
        "mean(cars$mpg)      # mean() gets the mean for 1 variable"
      ]
    },
    {
      "cell_type": "code",
      "execution_count": 2,
      "metadata": {
        "_uuid": "1fbdf03d5cf71b853f4588b412730900b022118c",
        "colab": {
          "base_uri": "https://localhost:8080/",
          "height": 34
        },
        "id": "C5IEDo8lVsia",
        "outputId": "2f84fd7f-2532-45e4-a8ec-dd70cbfd4633"
      },
      "outputs": [
        {
          "output_type": "display_data",
          "data": {
            "text/html": [
              "<style>\n",
              ".dl-inline {width: auto; margin:0; padding: 0}\n",
              ".dl-inline>dt, .dl-inline>dd {float: none; width: auto; display: inline-block}\n",
              ".dl-inline>dt::after {content: \":\\0020\"; padding-right: .5ex}\n",
              ".dl-inline>dt:not(:first-of-type) {padding-left: .5ex}\n",
              "</style><dl class=dl-inline><dt>mpg</dt><dd>20.090625</dd><dt>cyl</dt><dd>6.1875</dd><dt>disp</dt><dd>230.721875</dd><dt>hp</dt><dd>146.6875</dd><dt>drat</dt><dd>3.5965625</dd><dt>wt</dt><dd>3.21725</dd><dt>qsec</dt><dd>17.84875</dd><dt>vs</dt><dd>0.4375</dd><dt>am</dt><dd>0.40625</dd><dt>gear</dt><dd>3.6875</dd><dt>carb</dt><dd>2.8125</dd></dl>\n"
            ],
            "text/markdown": "mpg\n:   20.090625cyl\n:   6.1875disp\n:   230.721875hp\n:   146.6875drat\n:   3.5965625wt\n:   3.21725qsec\n:   17.84875vs\n:   0.4375am\n:   0.40625gear\n:   3.6875carb\n:   2.8125\n\n",
            "text/latex": "\\begin{description*}\n\\item[mpg] 20.090625\n\\item[cyl] 6.1875\n\\item[disp] 230.721875\n\\item[hp] 146.6875\n\\item[drat] 3.5965625\n\\item[wt] 3.21725\n\\item[qsec] 17.84875\n\\item[vs] 0.4375\n\\item[am] 0.40625\n\\item[gear] 3.6875\n\\item[carb] 2.8125\n\\end{description*}\n",
            "text/plain": [
              "       mpg        cyl       disp         hp       drat         wt       qsec \n",
              " 20.090625   6.187500 230.721875 146.687500   3.596563   3.217250  17.848750 \n",
              "        vs         am       gear       carb \n",
              "  0.437500   0.406250   3.687500   2.812500 "
            ]
          },
          "metadata": {}
        }
      ],
      "source": [
        "# colMeans() gets the means for all columns in a data frame\n",
        "colMeans(cars)"
      ]
    },
    {
      "cell_type": "code",
      "execution_count": null,
      "metadata": {
        "_uuid": "6753e8438a00b6282b618b0ee9139cfc3bc7befc",
        "id": "lQQa1NBIVsic",
        "outputId": "12323aa8-72e8-4b2f-ce13-2c8d7b51de7b"
      },
      "outputs": [
        {
          "data": {
            "text/html": [
              "<dl class=dl-horizontal>\n",
              "\t<dt>Mazda RX4</dt>\n",
              "\t\t<dd>29.9072727272727</dd>\n",
              "\t<dt>Mazda RX4 Wag</dt>\n",
              "\t\t<dd>29.9813636363636</dd>\n",
              "\t<dt>Datsun 710</dt>\n",
              "\t\t<dd>23.5981818181818</dd>\n",
              "\t<dt>Hornet 4 Drive</dt>\n",
              "\t\t<dd>38.7395454545455</dd>\n",
              "\t<dt>Hornet Sportabout</dt>\n",
              "\t\t<dd>53.6645454545455</dd>\n",
              "\t<dt>Valiant</dt>\n",
              "\t\t<dd>35.0490909090909</dd>\n",
              "</dl>\n"
            ],
            "text/latex": [
              "\\begin{description*}\n",
              "\\item[Mazda RX4] 29.9072727272727\n",
              "\\item[Mazda RX4 Wag] 29.9813636363636\n",
              "\\item[Datsun 710] 23.5981818181818\n",
              "\\item[Hornet 4 Drive] 38.7395454545455\n",
              "\\item[Hornet Sportabout] 53.6645454545455\n",
              "\\item[Valiant] 35.0490909090909\n",
              "\\end{description*}\n"
            ],
            "text/markdown": [
              "Mazda RX4\n",
              ":   29.9072727272727Mazda RX4 Wag\n",
              ":   29.9813636363636Datsun 710\n",
              ":   23.5981818181818Hornet 4 Drive\n",
              ":   38.7395454545455Hornet Sportabout\n",
              ":   53.6645454545455Valiant\n",
              ":   35.0490909090909\n",
              "\n"
            ],
            "text/plain": [
              "        Mazda RX4     Mazda RX4 Wag        Datsun 710    Hornet 4 Drive \n",
              "         29.90727          29.98136          23.59818          38.73955 \n",
              "Hornet Sportabout           Valiant \n",
              "         53.66455          35.04909 "
            ]
          },
          "metadata": {},
          "output_type": "display_data"
        }
      ],
      "source": [
        "# rowMeans() gets the means for all rows in a data frame\n",
        "head(rowMeans(cars))    "
      ]
    },
    {
      "cell_type": "markdown",
      "metadata": {
        "_uuid": "38f958d09409b208162b6e1050e4968982a07114",
        "id": "r5BEkRz7Vsic"
      },
      "source": [
        "The median of a distribution is the value where 50% of the data lies below it and 50% lies above it. In essence, the median splits the data in half. The median is also known as the 50% percentile since 50% of the observations are found below it. As we've seen previously, you can get the median using the median() function."
      ]
    },
    {
      "cell_type": "code",
      "execution_count": null,
      "metadata": {
        "_uuid": "f7b8a3149488d0bab80fef024b6d64bb9f27b1cb",
        "id": "uJrIhNdgVsic",
        "outputId": "c16bd60a-ac17-4930-c49b-5b1168a0ccd4"
      },
      "outputs": [
        {
          "data": {
            "text/html": [
              "19.2"
            ],
            "text/latex": [
              "19.2"
            ],
            "text/markdown": [
              "19.2"
            ],
            "text/plain": [
              "[1] 19.2"
            ]
          },
          "metadata": {},
          "output_type": "display_data"
        }
      ],
      "source": [
        "median(cars$mpg)"
      ]
    },
    {
      "cell_type": "markdown",
      "metadata": {
        "_uuid": "bc8f6c9fd4d1e55c532c84f27c380461b8a14ccf",
        "id": "PE6FOB99Vsid"
      },
      "source": [
        "To get the median of every column, we can use the apply() function which takes a data object, a function to execute, and a specified margin (rows or columns)."
      ]
    },
    {
      "cell_type": "code",
      "execution_count": null,
      "metadata": {
        "_uuid": "3d19032425872731489f81a8abcb07ee3120b33d",
        "id": "UqdTG4PrVsid",
        "outputId": "a6da6639-6d13-4746-a424-f1aeec023980"
      },
      "outputs": [
        {
          "data": {
            "text/html": [
              "<dl class=dl-horizontal>\n",
              "\t<dt>mpg</dt>\n",
              "\t\t<dd>19.2</dd>\n",
              "\t<dt>cyl</dt>\n",
              "\t\t<dd>6</dd>\n",
              "\t<dt>disp</dt>\n",
              "\t\t<dd>196.3</dd>\n",
              "\t<dt>hp</dt>\n",
              "\t\t<dd>123</dd>\n",
              "\t<dt>drat</dt>\n",
              "\t\t<dd>3.695</dd>\n",
              "\t<dt>wt</dt>\n",
              "\t\t<dd>3.325</dd>\n",
              "\t<dt>qsec</dt>\n",
              "\t\t<dd>17.71</dd>\n",
              "\t<dt>vs</dt>\n",
              "\t\t<dd>0</dd>\n",
              "\t<dt>am</dt>\n",
              "\t\t<dd>0</dd>\n",
              "\t<dt>gear</dt>\n",
              "\t\t<dd>4</dd>\n",
              "\t<dt>carb</dt>\n",
              "\t\t<dd>2</dd>\n",
              "</dl>\n"
            ],
            "text/latex": [
              "\\begin{description*}\n",
              "\\item[mpg] 19.2\n",
              "\\item[cyl] 6\n",
              "\\item[disp] 196.3\n",
              "\\item[hp] 123\n",
              "\\item[drat] 3.695\n",
              "\\item[wt] 3.325\n",
              "\\item[qsec] 17.71\n",
              "\\item[vs] 0\n",
              "\\item[am] 0\n",
              "\\item[gear] 4\n",
              "\\item[carb] 2\n",
              "\\end{description*}\n"
            ],
            "text/markdown": [
              "mpg\n",
              ":   19.2cyl\n",
              ":   6disp\n",
              ":   196.3hp\n",
              ":   123drat\n",
              ":   3.695wt\n",
              ":   3.325qsec\n",
              ":   17.71vs\n",
              ":   0am\n",
              ":   0gear\n",
              ":   4carb\n",
              ":   2\n",
              "\n"
            ],
            "text/plain": [
              "    mpg     cyl    disp      hp    drat      wt    qsec      vs      am    gear \n",
              " 19.200   6.000 196.300 123.000   3.695   3.325  17.710   0.000   0.000   4.000 \n",
              "   carb \n",
              "  2.000 "
            ]
          },
          "metadata": {},
          "output_type": "display_data"
        }
      ],
      "source": [
        "colMedians <- apply(cars,            \n",
        "                    MARGIN=2,        # Operate on columns\n",
        "                    FUN = median)    # Use function median\n",
        "\n",
        "colMedians"
      ]
    },
    {
      "cell_type": "markdown",
      "metadata": {
        "_uuid": "274b12c48cee89b0e9516d255b761a2205b1737e",
        "id": "8f8STFVpVsif"
      },
      "source": [
        "Although the mean and median both give us some sense of the center of a distribution, they aren't always the same. The median always gives us a value that splits the data into two halves while the mean is a numeric average so extreme values can have a significant impact on the mean. In a symmetric distribution, the mean and median will be the same. Let's investigate with a density plot."
      ]
    },
    {
      "cell_type": "code",
      "execution_count": null,
      "metadata": {
        "_uuid": "27fc6cb8ee4342d095358c6e3cb3650334cb3c78",
        "id": "8U_fENIMVsif",
        "outputId": "066acca1-ad8b-4e35-b175-7e9454d710e1"
      },
      "outputs": [
        {
          "data": {
            "image/png": "[encoded data removed]"
          },
          "metadata": {
            "image/png": {
              "height": 420,
              "width": 420
            }
          },
          "output_type": "display_data"
        }
      ],
      "source": [
        "norm_data <- rnorm(100000)          # Generate normally distributed data\n",
        "\n",
        "plot(density(norm_data))            # Create a density plot\n",
        "\n",
        "abline(v=mean(norm_data), lwd=5)    # Plot a thick black line at the mean\n",
        "\n",
        "abline(v=median(norm_data), col=\"red\", lwd=2 )   # Plot a red line at the median"
      ]
    },
    {
      "cell_type": "markdown",
      "metadata": {
        "_uuid": "60ccc9174a99dec68aa3a2fc41a73b0347d63aac",
        "id": "ow37_7r7Vsig"
      },
      "source": [
        "In the plot above the mean and median are both so close to zero that the red median line lies on top of the thicker black line drawn at the mean.\n",
        "\n",
        "In skewed distributions, the mean tends to get pulled in the direction of the skew, while the median tends to resist the effects of skew."
      ]
    },
    {
      "cell_type": "code",
      "execution_count": null,
      "metadata": {
        "_uuid": "9a9faa17eb448f5761268cdb33192a7b92d9b950",
        "id": "DRbFT8_qVsig",
        "outputId": "fb2f0f29-8a80-41e2-8747-8b204d46d7b6"
      },
      "outputs": [
        {
          "data": {
            "image/png": "[encoded data removed]"
          },
          "metadata": {
            "image/png": {
              "height": 420,
              "width": 420
            }
          },
          "output_type": "display_data"
        }
      ],
      "source": [
        "skewed_data <- rexp(100000,1)           # Generate skewed data\n",
        "\n",
        "plot(density(skewed_data), xlim=c(0,4))    \n",
        "\n",
        "# Black line at the mean\n",
        "abline(v=mean(skewed_data), lwd=5)  \n",
        "\n",
        "# Red line at the median\n",
        "abline(v=median(skewed_data), col=\"red\", lwd=2 )  "
      ]
    },
    {
      "cell_type": "markdown",
      "metadata": {
        "_uuid": "72cf2b622481819a94308ca565a1d9a68cc666b5",
        "id": "DL-1XiSuVsih"
      },
      "source": [
        "The mean is also influenced heavily by outliers while the median resists the influence of outliers."
      ]
    },
    {
      "cell_type": "code",
      "execution_count": null,
      "metadata": {
        "_uuid": "ee2e7fab8279247ce44a2882f1990af594c79a78",
        "id": "qlhROuZAVsih",
        "outputId": "8efedbcf-84e1-42e5-f7b7-a91f8201b8bf"
      },
      "outputs": [
        {
          "data": {
            "image/png": "[encoded data removed]"
          },
          "metadata": {
            "image/png": {
              "height": 420,
              "width": 420
            }
          },
          "output_type": "display_data"
        }
      ],
      "source": [
        "norm_data <- rnorm(50)             # Generate 50 normally distributed points\n",
        "\n",
        "outliers <- rnorm(3, mean=15)      # Generate 3 outliers\n",
        "\n",
        "norm_data <- c(norm_data,outliers)      # Add outliers\n",
        "\n",
        "plot(density(norm_data))                \n",
        "\n",
        "# Black line at the mean\n",
        "abline(v=mean(norm_data), lwd=5)        \n",
        "\n",
        "# Red line at the median\n",
        "abline(v=median(norm_data), col=\"red\", lwd=2 )   "
      ]
    },
    {
      "cell_type": "markdown",
      "metadata": {
        "_uuid": "d7d2b1374c8135272a1913cd3a92ea7cf91d06b8",
        "id": "lhoD8j12Vsih"
      },
      "source": [
        "Since the median tends to resist the effects of skewness and outliers, it is known a \"robust\" statistic. The median generally gives a better sense of the typical value in a distribution with significant skew or outliers.\n",
        "The mode of a variable is simply the value that appears most frequently. Unlike mean and median, you can take the mode of a categorical variable and it is possible to have multiple modes. R does not include a function to find the mode, since it is not always a particularly useful statistic: oftentimes all the values in variable are unique so the mode is essentially meaningless. You can find the mode of a variable by creating a data table for the variable to get the counts of each value and then getting the variable with the largest count."
      ]
    },
    {
      "cell_type": "code",
      "execution_count": null,
      "metadata": {
        "_uuid": "eac7dafb2ee536c4171ad4932c78c3b6a5d6cd92",
        "id": "SKLZ-T2GVsih",
        "outputId": "2933d7d0-5d2f-49cb-87a9-703462470170"
      },
      "outputs": [
        {
          "data": {
            "text/plain": [
              "data\n",
              "cat hat sat \n",
              "  2   3   1 "
            ]
          },
          "metadata": {},
          "output_type": "display_data"
        },
        {
          "data": {
            "text/html": [
              "'hat'"
            ],
            "text/latex": [
              "'hat'"
            ],
            "text/markdown": [
              "'hat'"
            ],
            "text/plain": [
              "[1] \"hat\""
            ]
          },
          "metadata": {},
          "output_type": "display_data"
        }
      ],
      "source": [
        "# Dummy data\n",
        "data <- c(\"cat\",\"hat\",\"cat\",\"hat\",\"hat\",\"sat\")   \n",
        "\n",
        "# Create table of counts\n",
        "data_table <- table(data)                   \n",
        "\n",
        "data_table\n",
        "\n",
        "# Get the index of the variable with the max count\n",
        "max_index <- which.max(data_table)   \n",
        "\n",
        "# Use the index to get the mode from the table's names\n",
        "names(data_table)[max_index]     "
      ]
    },
    {
      "cell_type": "markdown",
      "metadata": {
        "_uuid": "5a836af96fa689e8d1f284c2ba43754cb937a06c",
        "id": "k7pVq2wiVsii"
      },
      "source": [
        "If you need to repeatedly find the mode, you could wrap these steps into a user-defined function:"
      ]
    },
    {
      "cell_type": "code",
      "execution_count": null,
      "metadata": {
        "_uuid": "f081ed8b378dc021fda5f3a3f473e9a0caa26207",
        "id": "eXjlUENVVsii",
        "outputId": "db306ee3-459a-4679-80e0-b36946cea88e"
      },
      "outputs": [
        {
          "data": {
            "text/html": [
              "'hat'"
            ],
            "text/latex": [
              "'hat'"
            ],
            "text/markdown": [
              "'hat'"
            ],
            "text/plain": [
              "[1] \"hat\""
            ]
          },
          "metadata": {},
          "output_type": "display_data"
        }
      ],
      "source": [
        "mode_function <- function(data){                         # Define new function\n",
        "    data_table <- table(data)                            # Create data table\n",
        "    max_index <- which.max(data_table)                   # Find max index\n",
        "    if (is.numeric(data)){                               # If input is numeric data\n",
        "        return(as.numeric(names(data_table)[max_index])) # Return output as numeric\n",
        "    }\n",
        "    names(data_table)[max_index]            # Otherwise return output as character\n",
        "}\n",
        "\n",
        "mode_function(data)"
      ]
    },
    {
      "cell_type": "markdown",
      "metadata": {
        "_uuid": "83e63a496a34853fec3a3cdff8b065a089474416",
        "id": "qW92-lhIVsii"
      },
      "source": [
        "*Note: Base R contains a function called mode() but it does not find the mode of a data set: it checks the type or storage mode of an object.*\n",
        "\n",
        "Let's use our new mode function to find the modes of each column of the mtcars data set by passing it in to the apply function:"
      ]
    },
    {
      "cell_type": "code",
      "execution_count": null,
      "metadata": {
        "_uuid": "603e3271b5c9f559fddbf5d1c10e1e917430919a",
        "id": "0XQdRHvvVsij",
        "outputId": "fdc0a4d9-6ab7-4617-db18-b8dde361c21c"
      },
      "outputs": [
        {
          "name": "stdout",
          "output_type": "stream",
          "text": [
            "   mpg    cyl   disp     hp   drat     wt   qsec     vs     am   gear   carb \n",
            " 10.40   8.00 275.80 110.00   3.07   3.44  17.02   0.00   0.00   3.00   2.00 \n"
          ]
        }
      ],
      "source": [
        "colModes <- apply(cars,            \n",
        "                 MARGIN=2,               # operate on columns\n",
        "                 FUN = mode_function)    # use function mode_function\n",
        "\n",
        "print(colModes)"
      ]
    },
    {
      "cell_type": "markdown",
      "metadata": {
        "_uuid": "e2d0d75518dfdff2906d6ae059a5b562e392a500",
        "id": "1pYt_R7aVsij"
      },
      "source": [
        "# Measures of Spread"
      ]
    },
    {
      "cell_type": "markdown",
      "metadata": {
        "_uuid": "713fcb357c8b38c1fdc9930d8edf982a3daf5ef6",
        "id": "Q-yXXNM-Vsij"
      },
      "source": [
        "Measures of spread (dispersion) are statistics that describe how data varies. While measures of center give us an idea of the typical value, measures of spread give us a sense of how much the data tends to diverge from the typical value.\n",
        "\n",
        "One of the simplest measures of spread is the range. Range is the distance between the maximum and minimum observations."
      ]
    },
    {
      "cell_type": "code",
      "execution_count": null,
      "metadata": {
        "_uuid": "2a3064ef7b09529f8af35f8fbb1c9b35fe3892e1",
        "id": "qDmrEmtvVsij",
        "outputId": "24334050-621d-42e9-8f68-9d4776f040db"
      },
      "outputs": [
        {
          "data": {
            "text/html": [
              "23.5"
            ],
            "text/latex": [
              "23.5"
            ],
            "text/markdown": [
              "23.5"
            ],
            "text/plain": [
              "[1] 23.5"
            ]
          },
          "metadata": {},
          "output_type": "display_data"
        }
      ],
      "source": [
        "# Subtract min from max to get the range\n",
        "max(cars$mpg) - min(cars$mpg)     "
      ]
    },
    {
      "cell_type": "markdown",
      "metadata": {
        "_uuid": "5f13afa5b7e5ffc4a6e92aab25d72a8a881c4c3d",
        "id": "vR1Td8BjVsik"
      },
      "source": [
        "As noted earlier, the median represents the 50th percentile of a data set. A summary of several percentiles can be used to describe a variable's spread. We can extract the minimum value (0th percentile), first quartile (25th percentile), median, third quartile(75th percentile) and maximum value (100th percentile) using the quantile() function."
      ]
    },
    {
      "cell_type": "code",
      "execution_count": null,
      "metadata": {
        "_uuid": "0da6afb1ef627e14628f5663cf09cb1923bd96ae",
        "id": "5Jx9kT9hVsik",
        "outputId": "cedec6b9-e8fd-42e5-aab7-1476369a5583"
      },
      "outputs": [
        {
          "data": {
            "text/html": [
              "<dl class=dl-horizontal>\n",
              "\t<dt>0%</dt>\n",
              "\t\t<dd>10.4</dd>\n",
              "\t<dt>25%</dt>\n",
              "\t\t<dd>15.425</dd>\n",
              "\t<dt>50%</dt>\n",
              "\t\t<dd>19.2</dd>\n",
              "\t<dt>75%</dt>\n",
              "\t\t<dd>22.8</dd>\n",
              "\t<dt>100%</dt>\n",
              "\t\t<dd>33.9</dd>\n",
              "</dl>\n"
            ],
            "text/latex": [
              "\\begin{description*}\n",
              "\\item[0\\textbackslash{}\\%] 10.4\n",
              "\\item[25\\textbackslash{}\\%] 15.425\n",
              "\\item[50\\textbackslash{}\\%] 19.2\n",
              "\\item[75\\textbackslash{}\\%] 22.8\n",
              "\\item[100\\textbackslash{}\\%] 33.9\n",
              "\\end{description*}\n"
            ],
            "text/markdown": [
              "0%\n",
              ":   10.425%\n",
              ":   15.42550%\n",
              ":   19.275%\n",
              ":   22.8100%\n",
              ":   33.9\n",
              "\n"
            ],
            "text/plain": [
              "    0%    25%    50%    75%   100% \n",
              "10.400 15.425 19.200 22.800 33.900 "
            ]
          },
          "metadata": {},
          "output_type": "display_data"
        }
      ],
      "source": [
        "quantile(cars$mpg)"
      ]
    },
    {
      "cell_type": "markdown",
      "metadata": {
        "_uuid": "8853e57104a82f92245f6f43a545eda3ccb605e7",
        "id": "AGgPVa9SVsik"
      },
      "source": [
        "Since these values are so commonly used to describe data, they are known as the \"five number summary\" and R has a couple other ways to find them."
      ]
    },
    {
      "cell_type": "code",
      "execution_count": null,
      "metadata": {
        "_uuid": "372fc8726b13d00561676563822f4326c6e0d78d",
        "id": "UAyNzTuMVsil",
        "outputId": "6f0aa737-eed9-4495-ed4f-f3a053d69f26"
      },
      "outputs": [
        {
          "data": {
            "text/html": [
              "<ol class=list-inline>\n",
              "\t<li>10.4</li>\n",
              "\t<li>15.35</li>\n",
              "\t<li>19.2</li>\n",
              "\t<li>22.8</li>\n",
              "\t<li>33.9</li>\n",
              "</ol>\n"
            ],
            "text/latex": [
              "\\begin{enumerate*}\n",
              "\\item 10.4\n",
              "\\item 15.35\n",
              "\\item 19.2\n",
              "\\item 22.8\n",
              "\\item 33.9\n",
              "\\end{enumerate*}\n"
            ],
            "text/markdown": [
              "1. 10.4\n",
              "2. 15.35\n",
              "3. 19.2\n",
              "4. 22.8\n",
              "5. 33.9\n",
              "\n",
              "\n"
            ],
            "text/plain": [
              "[1] 10.40 15.35 19.20 22.80 33.90"
            ]
          },
          "metadata": {},
          "output_type": "display_data"
        },
        {
          "data": {
            "text/plain": [
              "   Min. 1st Qu.  Median    Mean 3rd Qu.    Max. \n",
              "  10.40   15.43   19.20   20.09   22.80   33.90 "
            ]
          },
          "metadata": {},
          "output_type": "display_data"
        }
      ],
      "source": [
        "# Get five number summary\n",
        "fivenum(cars$mpg)   \n",
        "\n",
        "# Summary() shows the five number summary plus the mean\n",
        "summary(cars$mpg)   "
      ]
    },
    {
      "cell_type": "markdown",
      "metadata": {
        "_uuid": "3dc6fcc84b6f0c76a17447277a7af9f35a57338c",
        "id": "4AlB-OT5Vsil"
      },
      "source": [
        "The quantile() function also lets you check percentiles other than common ones that make up the five number summary. To find percentiles, pass a vector of percentiles to the probs argument."
      ]
    },
    {
      "cell_type": "code",
      "execution_count": null,
      "metadata": {
        "_uuid": "060b84b04b69c5f26cbc518d0fea7d51b4c333e2",
        "id": "hJBPJMuFVsil",
        "outputId": "a1e18fa1-b30e-4cce-f3df-95d84f78dfac"
      },
      "outputs": [
        {
          "data": {
            "text/html": [
              "<dl class=dl-horizontal>\n",
              "\t<dt>10%</dt>\n",
              "\t\t<dd>14.34</dd>\n",
              "\t<dt>90%</dt>\n",
              "\t\t<dd>30.09</dd>\n",
              "</dl>\n"
            ],
            "text/latex": [
              "\\begin{description*}\n",
              "\\item[10\\textbackslash{}\\%] 14.34\n",
              "\\item[90\\textbackslash{}\\%] 30.09\n",
              "\\end{description*}\n"
            ],
            "text/markdown": [
              "10%\n",
              ":   14.3490%\n",
              ":   30.09\n",
              "\n"
            ],
            "text/plain": [
              "  10%   90% \n",
              "14.34 30.09 "
            ]
          },
          "metadata": {},
          "output_type": "display_data"
        }
      ],
      "source": [
        "quantile(cars$mpg,\n",
        "        probs = c(0.1,0.9))  # get the 10th and 90th percentiles"
      ]
    },
    {
      "cell_type": "markdown",
      "metadata": {
        "_uuid": "41dfa78b98d864c8f9dfa4d8795f844c27c241da",
        "id": "8ZyU3MupVsil"
      },
      "source": [
        "Interquartile (IQR) range is another common measure of spread. IQR is the distance between the 3rd quartile and the 1st quartile, which encompasses half the data. R has a built in IRQ() fuction."
      ]
    },
    {
      "cell_type": "code",
      "execution_count": null,
      "metadata": {
        "_uuid": "f7e0e387db9d4c619e0d9c99d1e379f00882c2e4",
        "id": "-NOoFt7EVsim",
        "outputId": "d58e909b-6d59-4860-f8ce-68fb3033bf9e"
      },
      "outputs": [
        {
          "data": {
            "text/html": [
              "7.375"
            ],
            "text/latex": [
              "7.375"
            ],
            "text/markdown": [
              "7.375"
            ],
            "text/plain": [
              "[1] 7.375"
            ]
          },
          "metadata": {},
          "output_type": "display_data"
        }
      ],
      "source": [
        "IQR(cars$mpg)"
      ]
    },
    {
      "cell_type": "markdown",
      "metadata": {
        "_uuid": "917801fbdf5f61ade38700d95cdf977b1d246f27",
        "id": "TMLaQxvgVsim"
      },
      "source": [
        "The boxplots we learned to create in the lessons on plotting are just visual representations of the five number summary and IQR."
      ]
    },
    {
      "cell_type": "code",
      "execution_count": null,
      "metadata": {
        "_uuid": "f6b7a8bedf4abd12642fdefa882e623e4092dec1",
        "id": "lSnbwCpfVsim",
        "outputId": "cc8a9327-c31f-4003-9e22-79add350c844"
      },
      "outputs": [
        {
          "data": {
            "image/png": "[encoded data removed]"
          },
          "metadata": {
            "image/png": {
              "height": 420,
              "width": 420
            }
          },
          "output_type": "display_data"
        }
      ],
      "source": [
        "five_num <- fivenum(cars$mpg)\n",
        "\n",
        "boxplot(cars$mpg)\n",
        "\n",
        "text(x=five_num[1], adj=2, labels =\"Minimum\")\n",
        "text(x=five_num[2], adj=2.3, labels =\"1st Quartile\")\n",
        "text(x=five_num[3], adj=3, labels =\"Median\")\n",
        "text(x=five_num[4], adj=2.3, labels =\"3rd Quartile\")\n",
        "text(x=five_num[5], adj=2, labels =\"Maximum\")\n",
        "text(x=five_num[3], adj=c(0.5,-8), labels =\"IQR\", srt=90, cex=2)"
      ]
    },
    {
      "cell_type": "markdown",
      "metadata": {
        "_uuid": "1aec52e8c0a558bdb03a8694c03a7dca18ff2aef",
        "id": "AopOhkEPVsim"
      },
      "source": [
        "Variance and standard deviation are two other common measures of spread. The variance of a distribution is the average of the squared deviations (differences) from the mean. Use the built-in function var() to check variance."
      ]
    },
    {
      "cell_type": "code",
      "execution_count": null,
      "metadata": {
        "_uuid": "a61d9278ad75dfcb18991bad68b9eecb8e1c9247",
        "id": "PTQMY8i9Vsim",
        "outputId": "75a6de83-cf9e-47c7-c8cd-8f78899b16e8"
      },
      "outputs": [
        {
          "data": {
            "text/html": [
              "36.3241028225806"
            ],
            "text/latex": [
              "36.3241028225806"
            ],
            "text/markdown": [
              "36.3241028225806"
            ],
            "text/plain": [
              "[1] 36.3241"
            ]
          },
          "metadata": {},
          "output_type": "display_data"
        }
      ],
      "source": [
        "var(cars$mpg)   # get variance"
      ]
    },
    {
      "cell_type": "markdown",
      "metadata": {
        "_uuid": "1283f354dd789c569f00f888fee06de507cf8293",
        "id": "iAeRIiyhVsin"
      },
      "source": [
        "The standard deviation is the square root of the variance. Standard deviation can be more interpretable than variance, since the standard deviation is expressed in terms of the same units as the variable in question while variance is expressed in terms of units squared. Use sd() to check the standard deviation."
      ]
    },
    {
      "cell_type": "code",
      "execution_count": null,
      "metadata": {
        "_uuid": "a60d6cb530e003081871b77a836fffd5a4dfda82",
        "id": "OzoEirTMVsin",
        "outputId": "7fa45dfe-d965-4812-9e18-e796558b77fa"
      },
      "outputs": [
        {
          "data": {
            "text/html": [
              "6.0269480520891"
            ],
            "text/latex": [
              "6.0269480520891"
            ],
            "text/markdown": [
              "6.0269480520891"
            ],
            "text/plain": [
              "[1] 6.026948"
            ]
          },
          "metadata": {},
          "output_type": "display_data"
        }
      ],
      "source": [
        "sd(cars$mpg)    # get standard deviation"
      ]
    },
    {
      "cell_type": "markdown",
      "metadata": {
        "_uuid": "4628a9719e803670402ae35f3eee8132cd790ff7",
        "id": "fs1A_yE_Vsio"
      },
      "source": [
        "Since variance and standard deviation are both derived from the mean, they are susceptible to the influence of data skew and outliers. Median absolute deviation is an alternative measure of spread based on the median, which inherits the median's robustness against the influence of skew and outliers. Use the built in mad() function to find median absolute deviation."
      ]
    },
    {
      "cell_type": "code",
      "execution_count": null,
      "metadata": {
        "_uuid": "8f9dfe3da3d9b048db1828cf179fdf61605c4acb",
        "id": "8r8yOEz_Vsip",
        "outputId": "595e96b7-0f71-4db2-e05d-b6fef95437b7"
      },
      "outputs": [
        {
          "data": {
            "text/html": [
              "5.41149"
            ],
            "text/latex": [
              "5.41149"
            ],
            "text/markdown": [
              "5.41149"
            ],
            "text/plain": [
              "[1] 5.41149"
            ]
          },
          "metadata": {},
          "output_type": "display_data"
        }
      ],
      "source": [
        "mad(cars$mpg)    # get median absolute deviation"
      ]
    },
    {
      "cell_type": "markdown",
      "metadata": {
        "_uuid": "3df13c4e5b7c85fe9181c7ef20c0c950ef048140",
        "id": "fIvZnXlKVsip"
      },
      "source": [
        "# Skewness and Kurtosis"
      ]
    },
    {
      "cell_type": "markdown",
      "metadata": {
        "_uuid": "1536137c4a667c99ee16bdbbaa644e1575501dd9",
        "id": "wzpeCCAPVsip"
      },
      "source": [
        "Beyond measures of center and spread, descriptive statistics include measures that give you a sense of the shape of a distribution. Skewness measures the skew or asymmetry of a distribution while kurtosis measures how much data is in the tails of a distribution v.s. the center. We won't go into the exact calculations behind skewness and kurtosis, but they are essentially just statistics that take the idea of variance a step further: while variance involves squaring deviations from the mean, skewness involves cubing deviations from the mean and kurtosis involves raising deviations from the mean to the 4th power.\n",
        "\n",
        "To check skewness and kurtosis, we'll need the \"e1071\" package. First let's create some some dummy data and inspect it with a series of plots."
      ]
    },
    {
      "cell_type": "code",
      "execution_count": null,
      "metadata": {
        "_uuid": "da72f488102007b582fb037dabf42a552f55f710",
        "id": "FtnBEvDrVsip",
        "outputId": "b8f28413-37b8-4ee0-9291-f626ff6c41a4"
      },
      "outputs": [
        {
          "data": {
            "image/png": "[encoded data removed]"
          },
          "metadata": {
            "image/png": {
              "height": 420,
              "width": 420
            }
          },
          "output_type": "display_data"
        }
      ],
      "source": [
        "library(e1071)\n",
        "\n",
        "normal_data <- rnorm(100000)                       # Generate normally distributed data\n",
        "skewed_data <- c(rnorm(35000,sd=2)+2,rexp(65000))  # Generate skewed data\n",
        "uniform_data <- runif(100000,0,1)                  # Generate uniformly distributed data\n",
        "peaked_data <- c(rexp(100000),                     # Generate data with a sharp peak\n",
        "                (rexp(100000)*-1))\n",
        "\n",
        "\n",
        "par(mfrow=c(2,2))                          # Make density plots of the distributions*\n",
        "plot(density(normal_data))\n",
        "plot(density(skewed_data),xlim=c(-5,5))\n",
        "plot(density(uniform_data))\n",
        "plot(density(peaked_data),xlim=c(-5,5))"
      ]
    },
    {
      "cell_type": "markdown",
      "metadata": {
        "_uuid": "e1223693a78a0718b73fbd25d73f68b72a3173c1",
        "id": "gAweljhvVsiq"
      },
      "source": [
        "*Note: par() lets you set various graphical parameters. In this case, mfrow=c(2,2) lets us combine 4 plots into a single plot with 2 rows and 2 columns.*\n",
        "\n",
        "Now let's check the skewness of each of the distributions. Since skewness measures asymmetry, we'd expect to see low skewness for all of the distributions except for the second one, because all the others are roughly symmetric:"
      ]
    },
    {
      "cell_type": "code",
      "execution_count": null,
      "metadata": {
        "_uuid": "c3aa3e6b3375d7b8328565a0a1cb01f5a31465e8",
        "id": "623hmtQ6Vsiq",
        "outputId": "b8a7507c-065b-49f0-9455-4d9455c4b50f"
      },
      "outputs": [
        {
          "data": {
            "text/html": [
              "0.00926617617729739"
            ],
            "text/latex": [
              "0.00926617617729739"
            ],
            "text/markdown": [
              "0.00926617617729739"
            ],
            "text/plain": [
              "[1] 0.009266176"
            ]
          },
          "metadata": {},
          "output_type": "display_data"
        },
        {
          "data": {
            "text/html": [
              "0.988632912741977"
            ],
            "text/latex": [
              "0.988632912741977"
            ],
            "text/markdown": [
              "0.988632912741977"
            ],
            "text/plain": [
              "[1] 0.9886329"
            ]
          },
          "metadata": {},
          "output_type": "display_data"
        },
        {
          "data": {
            "text/html": [
              "0.00318924042944863"
            ],
            "text/latex": [
              "0.00318924042944863"
            ],
            "text/markdown": [
              "0.00318924042944863"
            ],
            "text/plain": [
              "[1] 0.00318924"
            ]
          },
          "metadata": {},
          "output_type": "display_data"
        },
        {
          "data": {
            "text/html": [
              "-0.0072586657028696"
            ],
            "text/latex": [
              "-0.0072586657028696"
            ],
            "text/markdown": [
              "-0.0072586657028696"
            ],
            "text/plain": [
              "[1] -0.007258666"
            ]
          },
          "metadata": {},
          "output_type": "display_data"
        }
      ],
      "source": [
        "skewness(normal_data)\n",
        "skewness(skewed_data)\n",
        "skewness(uniform_data)\n",
        "skewness(peaked_data)"
      ]
    },
    {
      "cell_type": "markdown",
      "metadata": {
        "_uuid": "74d2dd97962ee2573b306ce4a311ac580269b1a1",
        "id": "nPml6WJOVsiq"
      },
      "source": [
        "The 3 roughly symmetric distributions have almost zero skewness, while the positively skewed distribution has positive skewness.\n",
        "Now let's check kurtosis. Since kurtosis measures peakedness, we'd expect the flat (uniform) distribution have low kurtosis while the distributions with sharper peaks should have higher kurtosis."
      ]
    },
    {
      "cell_type": "code",
      "execution_count": null,
      "metadata": {
        "_uuid": "9c61a19f7a773b966ccf0f0b1a5863d7b3fdc08e",
        "id": "v-y5z4KdVsir",
        "outputId": "cb789233-ef15-4d09-e2c9-8212fcb60fee"
      },
      "outputs": [
        {
          "data": {
            "text/html": [
              "-0.0179400085600996"
            ],
            "text/latex": [
              "-0.0179400085600996"
            ],
            "text/markdown": [
              "-0.0179400085600996"
            ],
            "text/plain": [
              "[1] -0.01794001"
            ]
          },
          "metadata": {},
          "output_type": "display_data"
        },
        {
          "data": {
            "text/html": [
              "1.83691911085742"
            ],
            "text/latex": [
              "1.83691911085742"
            ],
            "text/markdown": [
              "1.83691911085742"
            ],
            "text/plain": [
              "[1] 1.836919"
            ]
          },
          "metadata": {},
          "output_type": "display_data"
        },
        {
          "data": {
            "text/html": [
              "-1.19948852938188"
            ],
            "text/latex": [
              "-1.19948852938188"
            ],
            "text/markdown": [
              "-1.19948852938188"
            ],
            "text/plain": [
              "[1] -1.199489"
            ]
          },
          "metadata": {},
          "output_type": "display_data"
        },
        {
          "data": {
            "text/html": [
              "3.09942460044997"
            ],
            "text/latex": [
              "3.09942460044997"
            ],
            "text/markdown": [
              "3.09942460044997"
            ],
            "text/plain": [
              "[1] 3.099425"
            ]
          },
          "metadata": {},
          "output_type": "display_data"
        }
      ],
      "source": [
        "kurtosis(normal_data)\n",
        "kurtosis(skewed_data)\n",
        "kurtosis(uniform_data)\n",
        "kurtosis(peaked_data)"
      ]
    },
    {
      "cell_type": "markdown",
      "metadata": {
        "_uuid": "a484a49aeb9770f0d79139e6315d3b39a6e9585c",
        "id": "G4lS0xXmVsir"
      },
      "source": [
        "As we can see from the output, the normally distributed data has a kurtosis near zero, the flat distribution has negative kurtosis and the two distributions with more data in the tails v.s. the center have higher kurtosis."
      ]
    },
    {
      "cell_type": "markdown",
      "metadata": {
        "_uuid": "9159de47ff5118d21d3812570d8686c02d9358ce",
        "id": "fy2aF8naVsis"
      },
      "source": [
        "# Wrap Up"
      ]
    },
    {
      "cell_type": "markdown",
      "metadata": {
        "_uuid": "978fdecc4d601fb953b470b84c2c70e326adeae8",
        "id": "cDgHNF7HVsis"
      },
      "source": [
        "Descriptive statistics help you explore features of your data, like center, spread and shape by summarizing them with numerical measurements. Descriptive statistics help inform the direction of an analysis and let you communicate your insights to others quickly and succinctly. In addition, certain values, like the mean and variance, are used in all sorts of statistical tests and predictive models.\n",
        "\n",
        "In this lesson we generated a lot of random data to illustrate concepts, but we haven't actually learned much about the functions we've been using to generate random data. In the next lesson, we'll learn about probability distributions, including how to draw random data from them."
      ]
    },
    {
      "cell_type": "markdown",
      "metadata": {
        "_uuid": "ab2351178bd0a91c85daafebed855dd2fd41e5e3",
        "id": "YO1IEXN4Vsis"
      },
      "source": [
        "# Next Lesson: [Intro to R Part 22: Probability Distributions](https://www.kaggle.com/hamelg/intro-to-r-part-22-probability-distributions)\n",
        "[back to index](https://www.kaggle.com/hamelg/intro-to-r-index)"
      ]
    },
    {
      "cell_type": "markdown",
      "metadata": {
        "_uuid": "7075033a9026b2cdef262a3b0e2d2e54d8794748",
        "id": "DNpp4HXKVsis"
      },
      "source": []
    },
    {
      "cell_type": "markdown",
      "metadata": {
        "_uuid": "fe5062574a10cf5cb69021a70ab6f93e17d5732a",
        "id": "MZKakolhVsit"
      },
      "source": [
        "# Exercises\n",
        "\n",
        "To do the exercises, fork this notebook and then fill in and run the code boxes according to the exercise instructions."
      ]
    },
    {
      "cell_type": "markdown",
      "metadata": {
        "_uuid": "a1158418a5bd691da1378c34049d31dfd9b85f94",
        "id": "vszEMnsCVsit"
      },
      "source": [
        "### Exercise #1\n",
        "Load the Titanic training data set and then calculate the difference between the mean and median of the Fare column."
      ]
    },
    {
      "cell_type": "code",
      "execution_count": null,
      "metadata": {
        "_kg_hide-output": true,
        "_uuid": "fff1a2a0dac63895b39a0cae7f0543c38a3a65b2",
        "id": "JW6lMkpmVsit",
        "outputId": "af91ff31-ba9f-46f0-9a9c-291868b04293"
      },
      "outputs": [
        {
          "data": {
            "text/html": [
              "'Your Code Here!'"
            ],
            "text/latex": [
              "'Your Code Here!'"
            ],
            "text/markdown": [
              "'Your Code Here!'"
            ],
            "text/plain": [
              "[1] \"Your Code Here!\""
            ]
          },
          "metadata": {},
          "output_type": "display_data"
        }
      ],
      "source": [
        "titanic_train <- read.csv(\"../input/train.csv\")\n",
        "\n",
        "\"Your Code Here!\""
      ]
    },
    {
      "cell_type": "markdown",
      "metadata": {
        "_uuid": "915483ee807b092e2eda52f068594383ba7b6b90",
        "id": "xviy_a8iVsit"
      },
      "source": [
        "### Exercise #2\n",
        "Calculate the standard deviation of the Fare column."
      ]
    },
    {
      "cell_type": "code",
      "execution_count": null,
      "metadata": {
        "_kg_hide-output": true,
        "_uuid": "227db923fbed173b47e9f477ed2b57a1e2b50d97",
        "id": "vOjc0Z31Vsiu",
        "outputId": "66034fdc-afdb-4145-f227-9de8d1166d88"
      },
      "outputs": [
        {
          "data": {
            "text/html": [
              "'Your Code Here!'"
            ],
            "text/latex": [
              "'Your Code Here!'"
            ],
            "text/markdown": [
              "'Your Code Here!'"
            ],
            "text/plain": [
              "[1] \"Your Code Here!\""
            ]
          },
          "metadata": {},
          "output_type": "display_data"
        }
      ],
      "source": [
        "\"Your Code Here!\""
      ]
    },
    {
      "cell_type": "markdown",
      "metadata": {
        "_uuid": "56f3469f0f92c59b3265893d99f2fa4603e84273",
        "id": "LPbLKEpYVsiu"
      },
      "source": [
        "### Exercise #3\n",
        "Find the mode of the Fare column."
      ]
    },
    {
      "cell_type": "code",
      "execution_count": null,
      "metadata": {
        "_kg_hide-output": true,
        "_uuid": "e61bc093042a8c19f4f176f2b06a58b463a7c160",
        "id": "AHRCjIcCVsiu",
        "outputId": "70760db5-e4fa-4480-b4a0-7e802245d0d8"
      },
      "outputs": [
        {
          "data": {
            "text/html": [
              "'Your Code Here!'"
            ],
            "text/latex": [
              "'Your Code Here!'"
            ],
            "text/markdown": [
              "'Your Code Here!'"
            ],
            "text/plain": [
              "[1] \"Your Code Here!\""
            ]
          },
          "metadata": {},
          "output_type": "display_data"
        }
      ],
      "source": [
        "fare_table <- table(titanic_train$Fare)\n",
        "\n",
        "\"Your Code Here!\""
      ]
    },
    {
      "cell_type": "markdown",
      "metadata": {
        "_uuid": "9e3106f3e7be8320dfbfd2019cddd434379aaf62",
        "id": "9YJj_t25Vsiu"
      },
      "source": [
        "## Exercise Solutions"
      ]
    },
    {
      "cell_type": "code",
      "execution_count": null,
      "metadata": {
        "_kg_hide-input": true,
        "_kg_hide-output": true,
        "_uuid": "4a858bf9202378f9ebd068f610cc084baaec0bc2",
        "id": "hb5sghFsVsiu",
        "outputId": "d9381f86-91aa-4b5a-9984-d151012c4580"
      },
      "outputs": [
        {
          "data": {
            "text/html": [
              "17.7500079685746"
            ],
            "text/latex": [
              "17.7500079685746"
            ],
            "text/markdown": [
              "17.7500079685746"
            ],
            "text/plain": [
              "[1] 17.75001"
            ]
          },
          "metadata": {},
          "output_type": "display_data"
        },
        {
          "data": {
            "text/html": [
              "<ol class=list-inline>\n",
              "\t<li>0</li>\n",
              "\t<li>7.9104</li>\n",
              "\t<li>14.4542</li>\n",
              "\t<li>31</li>\n",
              "\t<li>512.3292</li>\n",
              "</ol>\n"
            ],
            "text/latex": [
              "\\begin{enumerate*}\n",
              "\\item 0\n",
              "\\item 7.9104\n",
              "\\item 14.4542\n",
              "\\item 31\n",
              "\\item 512.3292\n",
              "\\end{enumerate*}\n"
            ],
            "text/markdown": [
              "1. 0\n",
              "2. 7.9104\n",
              "3. 14.4542\n",
              "4. 31\n",
              "5. 512.3292\n",
              "\n",
              "\n"
            ],
            "text/plain": [
              "[1]   0.0000   7.9104  14.4542  31.0000 512.3292"
            ]
          },
          "metadata": {},
          "output_type": "display_data"
        },
        {
          "data": {
            "text/html": [
              "<strong>8.05:</strong> 43"
            ],
            "text/latex": [
              "\\textbf{8.05:} 43"
            ],
            "text/markdown": [
              "**8.05:** 43"
            ],
            "text/plain": [
              "8.05 \n",
              "  43 "
            ]
          },
          "metadata": {},
          "output_type": "display_data"
        }
      ],
      "source": [
        "# 1 \n",
        "\n",
        "titanic_train <- read.csv(\"../input/train.csv\")\n",
        "\n",
        "mean(titanic_train$Fare) - median(titanic_train$Fare)\n",
        "\n",
        "\n",
        "# 2 \n",
        "\n",
        "fivenum(titanic_train$Fare)\n",
        "\n",
        "# 3\n",
        "\n",
        "fare_table <- table(titanic_train$Fare)\n",
        "\n",
        "fare_table[which.max(fare_table)]\n",
        "\n"
      ]
    }
  ],
  "metadata": {
    "kernelspec": {
      "display_name": "R",
      "language": "R",
      "name": "ir"
    },
    "language_info": {
      "codemirror_mode": "r",
      "file_extension": ".r",
      "mimetype": "text/x-r-source",
      "name": "R",
      "pygments_lexer": "r",
      "version": "3.6.0"
    },
    "colab": {
      "provenance": [],
      "include_colab_link": true
    }
  },
  "nbformat": 4,
  "nbformat_minor": 0
}