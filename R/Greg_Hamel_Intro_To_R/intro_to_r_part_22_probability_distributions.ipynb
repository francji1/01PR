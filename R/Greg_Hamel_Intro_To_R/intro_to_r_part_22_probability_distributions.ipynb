{
  "cells": [
    {
      "cell_type": "markdown",
      "metadata": {
        "id": "view-in-github",
        "colab_type": "text"
      },
      "source": [
        "<a href=\"https://colab.research.google.com/github/francji1/01PR/blob/main/R/Greg_Hamel_Intro_To_R/intro_to_r_part_22_probability_distributions.ipynb\" target=\"_parent\"><img src=\"https://colab.research.google.com/assets/colab-badge.svg\" alt=\"Open In Colab\"/></a>"
      ]
    },
    {
      "cell_type": "markdown",
      "metadata": {
        "_execution_state": "idle",
        "_uuid": "6b27cb0f04aa50f19a3c38337bf88b305364a46c",
        "id": "7w77XXmxWO2h"
      },
      "source": [
        "# Intro to R Part 22: Probability Distributions\n",
        "\n",
        "source:  https://www.kaggle.com/code/hamelg/intro-to-r-index/notebook\n"
      ]
    },
    {
      "cell_type": "markdown",
      "metadata": {
        "_uuid": "4d398fc1cdab0835e4eab20c78f721a0d22233cc",
        "id": "Bns4h6euWO2i"
      },
      "source": [
        "Many statistical tools and techniques used in data analysis are based on probability. Probability measures how likely it is for an event to occur on a scale from 0 (the event never occurs) to 1 (the event always occurs.). When working with data, variables in the columns of the data set can be thought of as random variables: variables that vary due to chance. A probability distribution describes how a random variable is distributed; it tells us which values a random variable is most likely to take on and which values are less likely.\n",
        "\n",
        "In statistics, there are a range of precisely defined probability distributions that have different shapes and can be used to model different types of random events. In this lesson we'll discuss some common probability distributions and how to work with them in R."
      ]
    },
    {
      "cell_type": "markdown",
      "metadata": {
        "_uuid": "c0ab09074c07755d5d14181422190357d56495c5",
        "id": "7VLQ1qfEWO2j"
      },
      "source": [
        "# Distribution Function Basics and The Uniform Distribution"
      ]
    },
    {
      "cell_type": "markdown",
      "metadata": {
        "_uuid": "234e96a71a62e388dbf652599825d60b1737ac55",
        "id": "YbQO1JuiWO2k"
      },
      "source": [
        "The [uniform distribution](https://en.wikipedia.org/wiki/Uniform_distribution_(continuous) is a probability distribution where each value within a certain range is equally likely to occur and values outside of the range never occur. If we make a density plot of a uniform distribution, it appears flat because no value is any more likely (and hence has any more density) than another."
      ]
    },
    {
      "cell_type": "code",
      "execution_count": 1,
      "metadata": {
        "_uuid": "5a61a7b8319f16fcea30cd08646fe3031cc17918",
        "colab": {
          "base_uri": "https://localhost:8080/",
          "height": 437
        },
        "id": "DeN8SpRtWO2k",
        "outputId": "ed5877a3-5ac5-4337-f889-d2822705c6b7"
      },
      "outputs": [
        {
          "output_type": "display_data",
          "data": {
            "text/plain": [
              "Plot with title “density.default(x = uniform_data)”"
            ],
            "image/png": "[encoded data removed]"
          },
          "metadata": {
            "image/png": {
              "width": 420,
              "height": 420
            }
          }
        }
      ],
      "source": [
        "# Supress warnings\n",
        "options(warn=-1)\n",
        "\n",
        "# generate data from a uniform distribution\n",
        "uniform_data <- runif(1000000,0,10)   \n",
        "\n",
        " # create a density plot\n",
        "plot(density(uniform_data ))         "
      ]
    },
    {
      "cell_type": "markdown",
      "metadata": {
        "_uuid": "1fbdf03d5cf71b853f4588b412730900b022118c",
        "id": "l94TxYmgWO2m"
      },
      "source": [
        "*Note: the plot above is an approximation of the underlying distribution, since it is based on a sample of observations, thus it is not perfectly flat.*\n",
        "\n",
        "In the code above, we generated 1 million data points from a uniform distribution spanning the range 0 to 10. In the density plot we see that the density of our uniform data is essentially level meaning any given value has the same probability of occurring. The area under a probability density curve is always equal to 1.\n",
        "\n",
        "Every probability distribution in R comes with 4 function prefixes: \"r\", \"p\" ,\"q\" and \"d\". When working probability distributions in R, your function calls will start with one of these four prefixes followed by a name for the type distribution you're working with. For instance, the R name for the uniform distribution is \"unif\" so the uniform distribution functions available to us are runif(), punif(), qunif() and dunif(). Let's go over each of these prefixes in detail.\n",
        "\n",
        "The \"r\" prefix is used to generate random numbers from the specified distribution. As you may have noticed in previous lessons, we've used the runif() function many times generate random numbers. The arguments you supply when generating random numbers depend on the type of distribution you're using. In the case of the uniform, we have to specify how many random numbers we want to generate and then the range of the distribution."
      ]
    },
    {
      "cell_type": "code",
      "execution_count": null,
      "metadata": {
        "_uuid": "10387810bf37fcf0de2767f5b44ac77c80af25c8",
        "id": "w-dnJawjWO2n"
      },
      "outputs": [],
      "source": [
        "more_random_data <- runif(n=10000,   # Generate 10,000 numbers\n",
        "                          min=0,     # In the range 0\n",
        "                          max=10)    # To 10"
      ]
    },
    {
      "cell_type": "markdown",
      "metadata": {
        "_uuid": "e3e982428f0e24bfa472256a286a7de2ca246030",
        "id": "jTn800LDWO2n"
      },
      "source": [
        "The prefix \"p\" is used to determine the probability that an observation drawn from a distribution falls below a specified value (known as the [cumulative distribution function](https://en.wikipedia.org/wiki/Cumulative_distribution_function).). In essence, \"p\" gives you the area under the distribution's density curve to the left of a certain value on the x axis. For example, in the uniform distribution above, there is a 25% chance that an observation will be in the range 0 to 2.5 and a 75% chance it will fall in the range 2.5 to 10. We can confirm this with punif()."
      ]
    },
    {
      "cell_type": "code",
      "execution_count": null,
      "metadata": {
        "_uuid": "0a7af0aa307750f7c1ce12291cad21f18b8dbe7a",
        "id": "MW5VXu4oWO2o",
        "outputId": "f203d167-7552-46bb-e755-23e10b22ebb6"
      },
      "outputs": [
        {
          "data": {
            "text/html": [
              "0.25"
            ],
            "text/latex": [
              "0.25"
            ],
            "text/markdown": [
              "0.25"
            ],
            "text/plain": [
              "[1] 0.25"
            ]
          },
          "metadata": {},
          "output_type": "display_data"
        }
      ],
      "source": [
        "punif(q = 2.5,      # Cutoff value (quantile) to check\n",
        "      min=0,                 \n",
        "      max=10)"
      ]
    },
    {
      "cell_type": "markdown",
      "metadata": {
        "_uuid": "542cad70bc191c65658ac89d9f37eb6d80bb3021",
        "id": "diuBk76UWO2p"
      },
      "source": [
        "The prefix \"q\" is the inverse of the prefix \"p\": it returns the cutoff value (quantile) associated with a given probability. For instance, if we want to know the cutoff value for which we have a 40% chance of drawing an observation below that value, we can use q."
      ]
    },
    {
      "cell_type": "code",
      "execution_count": null,
      "metadata": {
        "_uuid": "4234dab4e27de2133ef91069c8f81b153918fafa",
        "id": "Znkr8wxvWO2p",
        "outputId": "8c88bab3-b6be-4476-e565-a995533b8017"
      },
      "outputs": [
        {
          "data": {
            "text/html": [
              "4"
            ],
            "text/latex": [
              "4"
            ],
            "text/markdown": [
              "4"
            ],
            "text/plain": [
              "[1] 4"
            ]
          },
          "metadata": {},
          "output_type": "display_data"
        }
      ],
      "source": [
        "qunif(p = 0.4,      # Probability cutoff\n",
        "      min = 0, \n",
        "      max = 10)"
      ]
    },
    {
      "cell_type": "markdown",
      "metadata": {
        "_uuid": "9f032a39395678763bd5f6f957e44e862ba732f9",
        "id": "YLu67ZeNWO2q"
      },
      "source": [
        "Finally the \"d\" prefix gives you the density (height of the density curve) at a given point. Our plot of randomly generated uniform data was flat at 0.1 so the density of the distribution should be constant at 0.1 throughout the range 0 to 10."
      ]
    },
    {
      "cell_type": "code",
      "execution_count": null,
      "metadata": {
        "_uuid": "38f958d09409b208162b6e1050e4968982a07114",
        "id": "RyCMRsRGWO2r",
        "outputId": "28e867a8-bf8d-4c99-ccf2-00aae218783b"
      },
      "outputs": [
        {
          "data": {
            "text/html": [
              "0.1"
            ],
            "text/latex": [
              "0.1"
            ],
            "text/markdown": [
              "0.1"
            ],
            "text/plain": [
              "[1] 0.1"
            ]
          },
          "metadata": {},
          "output_type": "display_data"
        },
        {
          "data": {
            "text/html": [
              "0.1"
            ],
            "text/latex": [
              "0.1"
            ],
            "text/markdown": [
              "0.1"
            ],
            "text/plain": [
              "[1] 0.1"
            ]
          },
          "metadata": {},
          "output_type": "display_data"
        },
        {
          "data": {
            "text/html": [
              "0.1"
            ],
            "text/latex": [
              "0.1"
            ],
            "text/markdown": [
              "0.1"
            ],
            "text/plain": [
              "[1] 0.1"
            ]
          },
          "metadata": {},
          "output_type": "display_data"
        },
        {
          "data": {
            "text/html": [
              "0"
            ],
            "text/latex": [
              "0"
            ],
            "text/markdown": [
              "0"
            ],
            "text/plain": [
              "[1] 0"
            ]
          },
          "metadata": {},
          "output_type": "display_data"
        }
      ],
      "source": [
        "dunif(x = 0,           # x value at which to check density\n",
        "      min = 0,\n",
        "      max = 10)\n",
        "\n",
        "dunif(5, 0, 10)        # Check some more densities\n",
        "dunif(10, 0, 10)\n",
        "dunif(11, 0, 10)    # a value outside the distribution's range has 0 probability"
      ]
    },
    {
      "cell_type": "markdown",
      "metadata": {
        "_uuid": "43704e81d23aae0617c390529ff730dcd661cf91",
        "id": "sHh-p1KRWO2r"
      },
      "source": [
        "# Generating Random Numbers and Setting The Seed"
      ]
    },
    {
      "cell_type": "markdown",
      "metadata": {
        "_uuid": "da5747dd45a68bcb0f849b0f394be0c93ab95dc4",
        "id": "-JaIsGwgWO2s"
      },
      "source": [
        "Any time you need to generate random real numbers in a range with equal probability you can use the runif() function. The uniform distribution is continuous, meaning the values it generates can take on any real numbered value within the specified range, so the numbers it generates are decimals. If you need to generate integers instead of decimals, you could use floor() to round the decimals down."
      ]
    },
    {
      "cell_type": "code",
      "execution_count": null,
      "metadata": {
        "_uuid": "17db1ce2b162588254350909df77db6059dcdfbf",
        "id": "MTcO-lZlWO2s",
        "outputId": "04337944-45ec-49d9-d04b-369a2afd8f70"
      },
      "outputs": [
        {
          "data": {
            "text/plain": [
              "random_ints\n",
              "    1     2     3     4     5     6     7     8     9    10 \n",
              "10050  9979 10010 10046 10123  9979 10063  9910  9845  9995 "
            ]
          },
          "metadata": {},
          "output_type": "display_data"
        }
      ],
      "source": [
        "random_ints <- floor(runif(100000,1,11))    # Generate random data and round down\n",
        "\n",
        "table(random_ints)                          # Check counts"
      ]
    },
    {
      "cell_type": "markdown",
      "metadata": {
        "_uuid": "12c29711cc1665a8ba774072cc2a203cb5e3c797",
        "id": "McnwA9tqWO2s"
      },
      "source": [
        "Using runif() is not necessary to generate integers however: you can use the sample() function to draw a specified number of samples from a vector instead."
      ]
    },
    {
      "cell_type": "code",
      "execution_count": null,
      "metadata": {
        "_uuid": "5edc16efa88880011d3f8fe1368c77cd9d012692",
        "id": "8lF823FrWO2t",
        "outputId": "2fe36722-c29a-46ef-8f79-9117a5763f59"
      },
      "outputs": [
        {
          "data": {
            "text/plain": [
              "random_ints2\n",
              "    1     2     3     4     5     6     7     8     9    10 \n",
              "10125 10140  9964 10089  9909  9936  9880  9919 10009 10029 "
            ]
          },
          "metadata": {},
          "output_type": "display_data"
        }
      ],
      "source": [
        "random_ints2 <- sample(x = 1:10,             # Vector to sample from\n",
        "                       size = 100000,        # Number of samples\n",
        "                       replace = TRUE)       # Sample with replacement?*\n",
        "\n",
        "table(random_ints2)                          # Check counts"
      ]
    },
    {
      "cell_type": "markdown",
      "metadata": {
        "_uuid": "a4ee558ccb66aca02f4050f0fd99885b7b9804b8",
        "id": "uM8GCrA1WO2t"
      },
      "source": [
        "*Note: Sampling with replacement means you replace or \"put back\" a value after drawing it instead of removing it from the set you are sampling.*\n",
        "\n",
        "When generating random data and working with functions that involve randomization, your results can differ from one run to the next. Having results vary each time you run a function is often not desirable. For example, if you want a colleague to be able to reproduce your results exactly, you can run into problems when you use randomization. You can ensure that your results are the same each time you use a function that involves randomness by setting the random number generator's seed value to initialize it prior to running the function. Set the seed with set.seed()."
      ]
    },
    {
      "cell_type": "code",
      "execution_count": null,
      "metadata": {
        "_uuid": "34e06d9a863bd0bc69098d7b8a97fc6ea52c7757",
        "id": "Xe5f1GP5WO2t",
        "outputId": "823b9290-ca6b-48d7-d2b1-2b891011daae"
      },
      "outputs": [
        {
          "data": {
            "text/html": [
              "<ol class=list-inline>\n",
              "\t<li>1.27744366321713</li>\n",
              "\t<li>4.27110079489648</li>\n",
              "\t<li>4.77048692945391</li>\n",
              "\t<li>2.07752750534564</li>\n",
              "\t<li>1.67739249300212</li>\n",
              "</ol>\n"
            ],
            "text/latex": [
              "\\begin{enumerate*}\n",
              "\\item 1.27744366321713\n",
              "\\item 4.27110079489648\n",
              "\\item 4.77048692945391\n",
              "\\item 2.07752750534564\n",
              "\\item 1.67739249300212\n",
              "\\end{enumerate*}\n"
            ],
            "text/markdown": [
              "1. 1.27744366321713\n",
              "2. 4.27110079489648\n",
              "3. 4.77048692945391\n",
              "4. 2.07752750534564\n",
              "5. 1.67739249300212\n",
              "\n",
              "\n"
            ],
            "text/plain": [
              "[1] 1.277444 4.271101 4.770487 2.077528 1.677392"
            ]
          },
          "metadata": {},
          "output_type": "display_data"
        },
        {
          "data": {
            "text/html": [
              "<ol class=list-inline>\n",
              "\t<li>1.27744366321713</li>\n",
              "\t<li>4.27110079489648</li>\n",
              "\t<li>4.77048692945391</li>\n",
              "\t<li>2.07752750534564</li>\n",
              "\t<li>1.67739249300212</li>\n",
              "</ol>\n"
            ],
            "text/latex": [
              "\\begin{enumerate*}\n",
              "\\item 1.27744366321713\n",
              "\\item 4.27110079489648\n",
              "\\item 4.77048692945391\n",
              "\\item 2.07752750534564\n",
              "\\item 1.67739249300212\n",
              "\\end{enumerate*}\n"
            ],
            "text/markdown": [
              "1. 1.27744366321713\n",
              "2. 4.27110079489648\n",
              "3. 4.77048692945391\n",
              "4. 2.07752750534564\n",
              "5. 1.67739249300212\n",
              "\n",
              "\n"
            ],
            "text/plain": [
              "[1] 1.277444 4.271101 4.770487 2.077528 1.677392"
            ]
          },
          "metadata": {},
          "output_type": "display_data"
        }
      ],
      "source": [
        "set.seed(12)      # Set seed to arbitrary value\n",
        "\n",
        "runif(5,1,5)    # Generate some random numbers\n",
        "\n",
        "set.seed(12)      # Reset seed to the same value\n",
        "\n",
        "runif(5,1,5)    # Generate more random numbers"
      ]
    },
    {
      "cell_type": "markdown",
      "metadata": {
        "_uuid": "9d82fc6387b73a68d835f98f92832bf4ea67847e",
        "id": "l1Cdu2WgWO2t"
      },
      "source": [
        "Notice that we generated the exact same numbers with both calls to runif() because we set the same seed before each call. If we had not set the seed, we would have gotten different numbers. This reproducibility illustrates the fact that these random numbers aren't truly random, but rather \"[pseudorandom](https://en.wikipedia.org/wiki/Pseudorandomness)\"."
      ]
    },
    {
      "cell_type": "markdown",
      "metadata": {
        "_uuid": "8bccc7d1938d4be0587c60a5acbca4d7b1faa2b8",
        "id": "bSgNrDvrWO2t"
      },
      "source": [
        "# The Normal Distribution"
      ]
    },
    {
      "cell_type": "markdown",
      "metadata": {
        "_uuid": "19275053f7f415c6ac217c7c942f8291b63604f4",
        "id": "d2eaEZ9WWO2t"
      },
      "source": [
        "The normal or [Gaussian distribution](https://en.wikipedia.org/wiki/Normal_distribution) is a continuous probability distribution characterized by a symmetric bell-shaped curve. A normal distribution is defined by its center (mean) and spread (standard deviation.). The bulk of the observations generated from a normal distribution lie near the mean, which lies at the exact center of the distribution: as a rule of thumb, about 68% of the data lies within 1 standard deviation of the mean, 95% lies within 2 standard deviations and 99.7% lies within 3 standard deviations.\n",
        "\n",
        "The normal distribution is perhaps the most important distribution in all of statistics. It turns out that many real world phenomena, like IQ test scores and human heights, roughly follow a normal distribution, so it is often used to model random variables. Many common statistical tests assume distributions are normal. The R nickname for the normal distribution is \"norm\" so the functions for working with it are: rnorm(), pnorm(), qnorm() and dnorm()."
      ]
    },
    {
      "cell_type": "code",
      "execution_count": null,
      "metadata": {
        "_uuid": "9d3086ddc53ba437e40be5b978e62c47d243f139",
        "id": "i3VvZr5RWO2t",
        "outputId": "d8caeb94-5a18-4f24-c3c9-b080e8bd6293"
      },
      "outputs": [
        {
          "data": {
            "text/html": [
              "0.158655253931457"
            ],
            "text/latex": [
              "0.158655253931457"
            ],
            "text/markdown": [
              "0.158655253931457"
            ],
            "text/plain": [
              "[1] 0.1586553"
            ]
          },
          "metadata": {},
          "output_type": "display_data"
        },
        {
          "data": {
            "text/html": [
              "0.158655253931457"
            ],
            "text/latex": [
              "0.158655253931457"
            ],
            "text/markdown": [
              "0.158655253931457"
            ],
            "text/plain": [
              "[1] 0.1586553"
            ]
          },
          "metadata": {},
          "output_type": "display_data"
        },
        {
          "data": {
            "text/html": [
              "0.682689492137086"
            ],
            "text/latex": [
              "0.682689492137086"
            ],
            "text/markdown": [
              "0.682689492137086"
            ],
            "text/plain": [
              "[1] 0.6826895"
            ]
          },
          "metadata": {},
          "output_type": "display_data"
        }
      ],
      "source": [
        "# Generate normally distributed data\n",
        "normally_distributed <- rnorm(1000000,     \n",
        "                              mean = 0,    \n",
        "                              sd = 1)  \n",
        "\n",
        "# Get prob of observing a value less than -1\n",
        "prob_under_minus1 <- pnorm(q=-1,        \n",
        "                     mean=0,\n",
        "                     sd=1)\n",
        "\n",
        "# Get prob of observing a value over 1\n",
        "prob_over_1 <-  1-pnorm(q=1,            \n",
        "                     mean=0,\n",
        "                     sd=1)\n",
        "\n",
        "# Prob between -1 and 1\n",
        "between_prob <- 1-(prob_under_minus1+prob_over_1)  \n",
        "\n",
        "\n",
        "prob_under_minus1\n",
        "prob_over_1\n",
        "between_prob"
      ]
    },
    {
      "cell_type": "markdown",
      "metadata": {
        "_uuid": "16c60d2dc4a3833d078e670c8e2929dcb9289a98",
        "id": "xmKKj3yeWO2u"
      },
      "source": [
        "The output shows that roughly 16% of the data generated by a normal distribution with mean 0 and standard deviation 1 is below -1, 16% is above 1 and 68% lies between -1 and 1, which agrees with the 68, 95, 99.7 rule. Let's plot the randomly generated normal data and inspect the three areas we calculated under the density curve. \n",
        "\n",
        "*Note: Don't worry about the details of the plotting code, but notice we use ggplot2 isntead of R's base plotting, as it allows for more intricate plots.*"
      ]
    },
    {
      "cell_type": "code",
      "execution_count": null,
      "metadata": {
        "_uuid": "5756f0fbe871a37496fdd542d3c7c441ebfc9756",
        "id": "uZX_VREuWO2u",
        "outputId": "a550fe7e-a708-415a-b1fb-0a824d9849d0"
      },
      "outputs": [
        {
          "data": {
            "image/png": "[encoded data removed]"
          },
          "metadata": {},
          "output_type": "display_data"
        }
      ],
      "source": [
        "library(ggplot2)\n",
        "\n",
        "# Plot the density curve with the cutoff areas\n",
        "norm_frame = with(density(normally_distributed),  # Create data frame density values\n",
        "                  data.frame(x,y))  \n",
        "\n",
        "\n",
        "myplot <- ggplot(data = norm_frame, aes(x = x, y = y)) +   # Create the plot\n",
        "       geom_line() +\n",
        "       geom_ribbon(data=subset(norm_frame,x < -1),\n",
        "                   aes(ymax=y, ymin=0),\n",
        "                   fill=\"red\", \n",
        "                   alpha=0.4) +\n",
        "       geom_ribbon(data=subset(norm_frame,x > 1),\n",
        "                   aes(ymax=y, ymin=0),\n",
        "                   fill=\"red\", \n",
        "                   alpha=0.4) +\n",
        "       geom_ribbon(data=subset(norm_frame,x > -1 & x < 1),\n",
        "                   aes(ymax=y, ymin=0),\n",
        "                   fill=\"skyblue\", \n",
        "                   alpha=0.4) +\n",
        "       geom_text(x=-1.6,y=0.03,label=round(prob_under_minus1,4),size=4) +\n",
        "       geom_text(x=1.6,y=0.03,label=round(prob_under_minus1,4),size=4) +\n",
        "       geom_text(x=0,y=0.1,label=round(1-(prob_under_minus1*2),4),size=5) +\n",
        "       xlim(-4,4)\n",
        "\n",
        "myplot"
      ]
    },
    {
      "cell_type": "markdown",
      "metadata": {
        "_uuid": "1207107c96ba241be38703b544650c6a28cd2bc2",
        "id": "DAQ0swJSWO2v"
      },
      "source": [
        "The plot above shows the bell shape of the normal distribution, the area below and above one standard deviation and the area within 1 standard deviation of the mean.\n",
        "\n",
        "Finding quantiles of the normal distribution is a common task when performing statistical tests. You can check quantiles with qnorm()."
      ]
    },
    {
      "cell_type": "code",
      "execution_count": null,
      "metadata": {
        "_uuid": "5a123a598c0f5146632f67f5dfb15d857880f0ce",
        "id": "tr1ab9uRWO2v",
        "outputId": "1795deb2-f695-4810-f6ed-ab23c105d098"
      },
      "outputs": [
        {
          "data": {
            "text/html": [
              "-1.95996398454005"
            ],
            "text/latex": [
              "-1.95996398454005"
            ],
            "text/markdown": [
              "-1.95996398454005"
            ],
            "text/plain": [
              "[1] -1.959964"
            ]
          },
          "metadata": {},
          "output_type": "display_data"
        },
        {
          "data": {
            "text/html": [
              "1.95996398454005"
            ],
            "text/latex": [
              "1.95996398454005"
            ],
            "text/markdown": [
              "1.95996398454005"
            ],
            "text/plain": [
              "[1] 1.959964"
            ]
          },
          "metadata": {},
          "output_type": "display_data"
        }
      ],
      "source": [
        "qnorm(p = 0.025)      # Find the quantile at the 2.5% cutoff\n",
        "qnorm(p = 0.975)      # Find the quantile at the 97.5% cutoff"
      ]
    },
    {
      "cell_type": "markdown",
      "metadata": {
        "_uuid": "1e6198849bf5fed869933a0c002a6dea20d45426",
        "id": "7EFkCeS3WO2w"
      },
      "source": [
        "The quantile output above confirms that roughly 5% of the data lies more than 2 standard deviations from the mean.\n",
        "\n",
        "*Note: a mean of 0 and standard deviation of 1 are default values for the normal distribution functions.*"
      ]
    },
    {
      "cell_type": "markdown",
      "metadata": {
        "_uuid": "70d1ec96f5d0506f249caf8ab88f195e39e2619c",
        "id": "PI8S39RAWO2w"
      },
      "source": [
        "# The Binomial Distribution"
      ]
    },
    {
      "cell_type": "markdown",
      "metadata": {
        "_uuid": "9d956c8ab5c68e3bb29b18861a2125a624e30294",
        "id": "jetIlNWBWO2w"
      },
      "source": [
        "The binomial distribution is a discrete probability distribution that models the outcomes of a given number of random trails of some experiment or event with a known probability of success. The binomial is defined by two parameters: the probability of success in any given trial and the number of random trials. Each individual trial is known as a [Bernoulli random trail](https://en.wikipedia.org/wiki/Bernoulli_distribution). The binomial distribution tells you how likely it is to achieve a given number of successes in n trials of the experiment. For example, we could model flipping a fair coin 10 times with a binomial distribution where the number of trials is set to 10 and the probability of success is set to 0.5. In this case the distribution would tell us how likely it is to get zero heads, 1 head, 2 heads and so on.\n",
        "\n",
        "The R nickname for the binomial distribution is \"binom\", so the functions for working with it are rbinom(), pbinom(), qbinom() and dbinom(). Let's generate and investigate some binomial data."
      ]
    },
    {
      "cell_type": "code",
      "execution_count": null,
      "metadata": {
        "_uuid": "1fae3d05529e75b61b96b98dae30380eb2d90b80",
        "id": "UPafgrhJWO2x",
        "outputId": "2cd99904-9228-45f5-8ac0-194f30c0f642"
      },
      "outputs": [
        {
          "data": {
            "text/plain": [
              "fair_coin_flips\n",
              "     0      1      2      3      4      5      6      7      8      9     10 \n",
              "   973   9854  43736 117091 204867 246726 204975 117294  43723   9786    975 "
            ]
          },
          "metadata": {},
          "output_type": "display_data"
        },
        {
          "data": {
            "image/png": "[encoded data removed]"
          },
          "metadata": {},
          "output_type": "display_data"
        }
      ],
      "source": [
        "fair_coin_flips   <- rbinom(1000000,    # Generate data from the binomial distribution\n",
        "                           size = 10,   # With 10 trials\n",
        "                           prob = 0.5)  # And success probability 0.5\n",
        "\n",
        "table(fair_coin_flips)                # Check the counts\n",
        "\n",
        "hist(fair_coin_flips, breaks=seq(-0.5,10.5,1))   # Plot the results as a histogram"
      ]
    },
    {
      "cell_type": "markdown",
      "metadata": {
        "_uuid": "92722f078b74a96c644ce5ddc763608903536dc5",
        "id": "Rm6cazDoWO2x"
      },
      "source": [
        "Note that since the binomial distribution is discrete, it only takes on integer values so we can summarize binomial data with a table and its distribution with a histogram. The histogram shows us that a binomial distribution with a 50% probability of success is symmetric, with the most likely outcomes lying at the center. This is reminiscent of the normal distribution, but if we alter the success probability, the distribution won't be symmetric."
      ]
    },
    {
      "cell_type": "code",
      "execution_count": null,
      "metadata": {
        "_uuid": "1ed113fcaebaaa09e298403a211e177b1e758b65",
        "id": "QxPFRo5IWO2x",
        "outputId": "405c84b7-ce0e-4446-b55a-66fce99cf3e8"
      },
      "outputs": [
        {
          "data": {
            "text/plain": [
              "biased_coin_flips\n",
              "     1      2      3      4      5      6      7      8      9     10 \n",
              "     1     60    756   5395  26336  88095 201120 302086 269178 106973 "
            ]
          },
          "metadata": {},
          "output_type": "display_data"
        },
        {
          "data": {
            "image/png": "[encoded data removed]"
          },
          "metadata": {},
          "output_type": "display_data"
        }
      ],
      "source": [
        "set.seed(9)\n",
        "biased_coin_flips   <- rbinom(1000000,  # Generate data from the binomial distribution\n",
        "                           size = 10,   # With 10 trials\n",
        "                           prob = 0.8)  # And success probability 0.8\n",
        "\n",
        "table(biased_coin_flips)                # Check the counts\n",
        "\n",
        "hist(biased_coin_flips, breaks=seq(-0.5,10.5,1))   # Plot the results as a histogram"
      ]
    },
    {
      "cell_type": "markdown",
      "metadata": {
        "_uuid": "8bbab073e67eaec7633fbf90aa25a4ef66a063a1",
        "id": "KBBsG2otWO2y"
      },
      "source": [
        "The pbinom() function lets us check the probability of achieving a number of successes within a certain range."
      ]
    },
    {
      "cell_type": "code",
      "execution_count": null,
      "metadata": {
        "_uuid": "309d480955b084072ce558e99d16d5fa4a51fb27",
        "id": "W9Q_dO-hWO2y",
        "outputId": "cc8c4a4e-7797-40cb-a2de-52ec79ba8ebd"
      },
      "outputs": [
        {
          "data": {
            "text/html": [
              "0.0327934976"
            ],
            "text/latex": [
              "0.0327934976"
            ],
            "text/markdown": [
              "0.0327934976"
            ],
            "text/plain": [
              "[1] 0.0327935"
            ]
          },
          "metadata": {},
          "output_type": "display_data"
        },
        {
          "data": {
            "text/html": [
              "0.375809638400001"
            ],
            "text/latex": [
              "0.375809638400001"
            ],
            "text/markdown": [
              "0.375809638400001"
            ],
            "text/plain": [
              "[1] 0.3758096"
            ]
          },
          "metadata": {},
          "output_type": "display_data"
        }
      ],
      "source": [
        "# Check the chances of achieving 5 successes or less\n",
        "pbinom(q=5,           \n",
        "      size=10,\n",
        "      prob=0.8)\n",
        "\n",
        "# Check the chances of achieving 9 successes or more\n",
        "pbinom(q=8,           \n",
        "      size=10,\n",
        "      prob=0.8, \n",
        "      lower.tail = FALSE)    # Check the upper tail"
      ]
    },
    {
      "cell_type": "markdown",
      "metadata": {
        "_uuid": "1190e4a302def7d6099ee482b30ee17527c0317d",
        "id": "JhakkEo2WO2y"
      },
      "source": [
        "dbinom() checks the density of the binomial at a given x value. Since the binomial is discrete, this is the probability of getting a specific number of successes."
      ]
    },
    {
      "cell_type": "code",
      "execution_count": null,
      "metadata": {
        "_uuid": "55b252749737a2f3375a5d50b47155bdc26a3ee7",
        "id": "VQfWaYopWO2y",
        "outputId": "767c5e78-759b-4fcd-8ac4-64ef1ce38947"
      },
      "outputs": [
        {
          "data": {
            "text/html": [
              "0.24609375"
            ],
            "text/latex": [
              "0.24609375"
            ],
            "text/markdown": [
              "0.24609375"
            ],
            "text/plain": [
              "[1] 0.2460938"
            ]
          },
          "metadata": {},
          "output_type": "display_data"
        },
        {
          "data": {
            "text/html": [
              "0.301989888"
            ],
            "text/latex": [
              "0.301989888"
            ],
            "text/markdown": [
              "0.301989888"
            ],
            "text/plain": [
              "[1] 0.3019899"
            ]
          },
          "metadata": {},
          "output_type": "display_data"
        }
      ],
      "source": [
        "# Check the probability of 5 successes in 10 flips of a fair coin\n",
        "dbinom(x=5,             \n",
        "      size=10,\n",
        "      prob=0.5)    \n",
        "\n",
        "# Check the probability of 8 successes in 10 flips of a biased coin\n",
        "dbinom(x=8,             \n",
        "      size=10,\n",
        "      prob=0.8)"
      ]
    },
    {
      "cell_type": "markdown",
      "metadata": {
        "_uuid": "99eed701b93ad6cda977bf3526d5abdcf3e07720",
        "id": "huoex_E4WO2z"
      },
      "source": [
        "# The Geometric and Exponential Distributions"
      ]
    },
    {
      "cell_type": "markdown",
      "metadata": {
        "_uuid": "37eebf07948e73360a7b58d8938a3472beafe6fa",
        "id": "vginHgoHWO2z"
      },
      "source": [
        "The [geometric](https://en.wikipedia.org/wiki/Geometric_distribution) and [exponential](https://en.wikipedia.org/wiki/Exponential_distribution) distributions model the time it takes for an event to occur. The geometric distribution is discrete and models the number of trials it takes to achieve a success in repeated experiments with a given probability of success. The exponential distribution is a continuous analog of the geometric distribution and models the amount of time you have to wait before an event occurs given a certain occurrence rate.\n",
        "\n",
        "The R name for the geometric distribution is \"geom\". Let's use the geom functions to model the number of trials it takes to get a success (heads) when flipping a fair coin."
      ]
    },
    {
      "cell_type": "code",
      "execution_count": null,
      "metadata": {
        "_uuid": "6f6517c0d39a8daf5cabbe734eca9a0a745946b7",
        "id": "lVORFxPpWO2z",
        "outputId": "5423d7b6-a84d-4085-c806-82fd522305b3"
      },
      "outputs": [
        {
          "data": {
            "text/plain": [
              "flips_till_heads\n",
              "     1      2      3      4      5      6      7      8      9     10     11 \n",
              "500135 250046 125003  62229  31088  15649   7976   3869   2044    976    481 \n",
              "    12     13     14     15     16     17     18     19     20     22     23 \n",
              "   256    123     66     28     15      7      4      1      2      1      1 "
            ]
          },
          "metadata": {},
          "output_type": "display_data"
        },
        {
          "data": {
            "image/png": "[encoded data removed]"
          },
          "metadata": {},
          "output_type": "display_data"
        }
      ],
      "source": [
        "set.seed(12)\n",
        "flips_till_heads <- rgeom(n=1000000,     # Generate geometric data* \n",
        "                          prob=0.5) + 1    \n",
        "\n",
        "table(flips_till_heads)     # Check counts of results\n",
        "\n",
        "hist(flips_till_heads, \n",
        "     breaks=seq(-0.5,max(flips_till_heads)+0.5))   "
      ]
    },
    {
      "cell_type": "markdown",
      "metadata": {
        "_uuid": "74b5ae7032f4438910a5b987a89c3215f9dd72b3",
        "id": "JmEmCOTfWO20"
      },
      "source": [
        "*Note: in R the geom functions actually models the number of failures until the first success, so we need add 1 to get the number of trails until the first success.*\n",
        "\n",
        "The distribution looks similar to what we'd expect: it is very likely to get a heads in 1 or 2 flips, while it is very unlikely for it to take more than 5 flips to get a heads. In the million trails we generated, the longest it took to get a heads was 23 flips.\n",
        "\n",
        "Let's use pgeom() to check the probability of needing 6 flips or more to get a success."
      ]
    },
    {
      "cell_type": "code",
      "execution_count": null,
      "metadata": {
        "_uuid": "00d15c54e97ba03d131f8c801d5aea3daa920a3b",
        "id": "6VBRkryjWO20",
        "outputId": "8201d5d0-569e-4c85-db9e-afd58846ef8c"
      },
      "outputs": [
        {
          "data": {
            "text/html": [
              "0.03125"
            ],
            "text/latex": [
              "0.03125"
            ],
            "text/markdown": [
              "0.03125"
            ],
            "text/plain": [
              "[1] 0.03125"
            ]
          },
          "metadata": {},
          "output_type": "display_data"
        }
      ],
      "source": [
        "pgeom(q=4,             \n",
        "      prob=0.5, \n",
        "      lower.tail = FALSE)    # Check the upper tail"
      ]
    },
    {
      "cell_type": "markdown",
      "metadata": {
        "_uuid": "06aeac10282c9b4c542046de11365ff34788f687",
        "id": "1Or1xB7aWO20"
      },
      "source": [
        "You can use dgeom() to check the probability of seeing a specific number of failures before a success."
      ]
    },
    {
      "cell_type": "code",
      "execution_count": null,
      "metadata": {
        "_uuid": "9eb4fa60cef78480eab8803cb7d44ab6e6951e81",
        "id": "7I9fsleVWO21",
        "outputId": "cc993b5a-94d8-4c7a-f579-0cf86e35d1de"
      },
      "outputs": [
        {
          "data": {
            "text/html": [
              "0.25"
            ],
            "text/latex": [
              "0.25"
            ],
            "text/markdown": [
              "0.25"
            ],
            "text/plain": [
              "[1] 0.25"
            ]
          },
          "metadata": {},
          "output_type": "display_data"
        }
      ],
      "source": [
        "# Check the chances of getting 1 failure and then a success\n",
        "dgeom(x=1,\n",
        "     prob=0.5)"
      ]
    },
    {
      "cell_type": "markdown",
      "metadata": {
        "_uuid": "4a2a97d46287b819d13b04b852cf74ea3cf5606a",
        "id": "If5gGjp8WO21"
      },
      "source": [
        "The R name for the exponential distribution is \"exp\". We've already used the exponential function a few times in past lessons to generate skewed data with rexp(). Let's generate some exponential data, calculate the probability that we have to wait longer than 1 time unit for a success and plot it."
      ]
    },
    {
      "cell_type": "code",
      "execution_count": null,
      "metadata": {
        "_uuid": "cb33550acafabfada39783920e1f0c1aa6d199cf",
        "id": "j9MzuiF2WO21",
        "outputId": "1def625b-0ce0-492a-9fc7-33f04468441f"
      },
      "outputs": [
        {
          "data": {
            "text/html": [
              "0.367879441171442"
            ],
            "text/latex": [
              "0.367879441171442"
            ],
            "text/markdown": [
              "0.367879441171442"
            ],
            "text/plain": [
              "[1] 0.3678794"
            ]
          },
          "metadata": {},
          "output_type": "display_data"
        }
      ],
      "source": [
        "exponential_data <- rexp(n=1000000,\n",
        "                         rate=1)        # Success/arrival rate*\n",
        "\n",
        "# Get the probability of waiting more than 1 time unit before a success\n",
        "prob_longer_1 <- pexp(q=1,               \n",
        "                      rate=1,\n",
        "                      lower.tail=FALSE)\n",
        "\n",
        "prob_longer_1"
      ]
    },
    {
      "cell_type": "markdown",
      "metadata": {
        "_uuid": "80ae4682d71fc63fdfeeec7dc8133d36a4fba112",
        "id": "yVA3zQIcWO21"
      },
      "source": [
        "*Note: The average arrival time for the exponential distribution is equal to 1/rate.*\n",
        "\n",
        "Let's plot a density curve of the exponential data we generated to see its shape."
      ]
    },
    {
      "cell_type": "code",
      "execution_count": null,
      "metadata": {
        "_uuid": "a6dec96a58eb9bc2091a083ed5370d30ba13232f",
        "id": "hujWBtzJWO22",
        "outputId": "c7b814b3-abd5-4253-d837-a64042f87f3a"
      },
      "outputs": [
        {
          "data": {
            "image/png": "[encoded data removed]"
          },
          "metadata": {},
          "output_type": "display_data"
        }
      ],
      "source": [
        "# Plot the density curve of the exponential\n",
        "exp_frame = with(density(exponential_data),  # Create data frame of x,y density values\n",
        "                  data.frame(x,y))  \n",
        "\n",
        "myplot <- ggplot(data = exp_frame, aes(x = x, y = y)) +   # Create the plot\n",
        "       geom_line() +\n",
        "       geom_ribbon(data=subset(exp_frame,x > 1),\n",
        "                   aes(ymax=y, ymin=0),\n",
        "                   fill=\"red\", \n",
        "                   alpha=0.4)+\n",
        "       geom_ribbon(data=subset(exp_frame,x < 1),\n",
        "                   aes(ymax=y, ymin=0),\n",
        "                   fill=\"skyblue\", \n",
        "                   alpha=0.4) +\n",
        "       geom_text(x=2,y=0.06,label=round(prob_longer_1,4), size=5) +\n",
        "       geom_text(x=0.5,y=0.125,label=round(1-prob_longer_1,4), size=5) +\n",
        "       xlim(-0.5,7)\n",
        "\n",
        "myplot"
      ]
    },
    {
      "cell_type": "markdown",
      "metadata": {
        "_uuid": "98b085dbe662302f29598e029b9bd7e8889f5577",
        "id": "0ggmIM0wWO22"
      },
      "source": [
        "Similar to the geometric distribution, the exponential starts high and has a long tail that trails off to the right that contains rare cases where you have to wait much longer than average for an arrival."
      ]
    },
    {
      "cell_type": "markdown",
      "metadata": {
        "_uuid": "c52492e770796352a99cef2768471786919494ca",
        "id": "hfHJSit6WO22"
      },
      "source": [
        "# The Poisson Distribution"
      ]
    },
    {
      "cell_type": "markdown",
      "metadata": {
        "_uuid": "5a27fae288b105b6f7e3410a79043874555ec980",
        "id": "ssfh8MDfWO23"
      },
      "source": [
        "The Poisson distribution models the probability of seeing a certain number of successes within a time interval, where the time it takes for the next success is modeled by an exponential distribution. The Poisson distribution can be used to model traffic, such as the number of arrivals a hospital can expect in a hour's time or the number of emails you'd expect to receive in a week.\n",
        "\n",
        "The R shorthand for the Poisson distribution is \"pois\". Let's generate and plot some data from a Poisson distribution with an arrival rate of 1."
      ]
    },
    {
      "cell_type": "code",
      "execution_count": null,
      "metadata": {
        "_uuid": "f45b8caa47d5d0b5332b13654b329cc17ad3dc27",
        "id": "rt-L4Ds3WO23",
        "outputId": "655f9236-4b72-4b65-bd6c-164bdb666321"
      },
      "outputs": [
        {
          "data": {
            "text/plain": [
              "arrival_rate_1\n",
              "     0      1      2      3      4      5      6      7      8      9 \n",
              "367994 367884 183697  61524  15193   3096    527     70     13      2 "
            ]
          },
          "metadata": {},
          "output_type": "display_data"
        },
        {
          "data": {
            "image/png": "[encoded data removed]"
          },
          "metadata": {},
          "output_type": "display_data"
        }
      ],
      "source": [
        "set.seed(12)\n",
        "arrival_rate_1 <- rpois(n = 1000000,\n",
        "                      lambda = 1)        # Arrival rate\n",
        "\n",
        "table(arrival_rate_1)\n",
        "\n",
        "hist(arrival_rate_1,\n",
        "     breaks=seq(-0.5,max(arrival_rate_1)+0.5,1))"
      ]
    },
    {
      "cell_type": "markdown",
      "metadata": {
        "_uuid": "5710767e66693d956cadd81adebbcca262585bfd",
        "id": "6R33DOvBWO23"
      },
      "source": [
        "The histogram shows that when arrivals are relatively infrequent, it is rare to see more than a couple of arrivals in each time period. When the arrival rate is high, it becomes increasingly rare to see a low number of arrivals and the distribution starts to look more symmetric:"
      ]
    },
    {
      "cell_type": "code",
      "execution_count": null,
      "metadata": {
        "_uuid": "55a24922bd77355f1d125871d3df46f2d7801f5b",
        "id": "mBAbBFHPWO23",
        "outputId": "1f686caf-078e-4684-b3f0-760e71a179f2"
      },
      "outputs": [
        {
          "data": {
            "text/plain": [
              "arrival_rate_10\n",
              "     0      1      2      3      4      5      6      7      8      9     10 \n",
              "    49    473   2222   7576  18811  38135  62970  89986 112335 124749 125202 \n",
              "    11     12     13     14     15     16     17     18     19     20     21 \n",
              "114003  94613  72881  52293  34696  21709  12811   7147   3818   1952    874 \n",
              "    22     23     24     25     26     27     28 \n",
              "   400    175     65     30     12     10      3 "
            ]
          },
          "metadata": {},
          "output_type": "display_data"
        },
        {
          "data": {
            "image/png": "[encoded data removed]"
          },
          "metadata": {},
          "output_type": "display_data"
        }
      ],
      "source": [
        "set.seed(12)\n",
        "arrival_rate_10 <- rpois(n=1000000,\n",
        "                      lambda=10)    # Arrival rate of 10 per time unit\n",
        "\n",
        "table(arrival_rate_10)\n",
        "\n",
        "hist(arrival_rate_10,\n",
        "     breaks=seq(-0.5,max(arrival_rate_10)+0.5,1))"
      ]
    },
    {
      "cell_type": "markdown",
      "metadata": {
        "_uuid": "b2764f995224bcae9875693127d1b157c2fd2e03",
        "id": "dqQtsBNFWO23"
      },
      "source": [
        "We can use ppois() to check the probability of achieving more or less than a certain number of successes and dpos() to check the probability of obtaining a specific number of successes."
      ]
    },
    {
      "cell_type": "code",
      "execution_count": null,
      "metadata": {
        "_uuid": "649db6112969f05676915c1ccbe02c70684e5e73",
        "id": "n_aivIstWO24",
        "outputId": "41b62664-481f-4259-ef0f-4dcc787a294c"
      },
      "outputs": [
        {
          "data": {
            "text/html": [
              "0.0670859628790318"
            ],
            "text/latex": [
              "0.0670859628790318"
            ],
            "text/markdown": [
              "0.0670859628790318"
            ],
            "text/plain": [
              "[1] 0.06708596"
            ]
          },
          "metadata": {},
          "output_type": "display_data"
        },
        {
          "data": {
            "text/html": [
              "0.125110035721133"
            ],
            "text/latex": [
              "0.125110035721133"
            ],
            "text/markdown": [
              "0.125110035721133"
            ],
            "text/plain": [
              "[1] 0.12511"
            ]
          },
          "metadata": {},
          "output_type": "display_data"
        }
      ],
      "source": [
        "# check the probability of getting 5 arrivals or less\n",
        "ppois(q=5,           \n",
        "      lambda=10)     \n",
        "\n",
        "# Check the probability of getting exactly 10 arrivals\n",
        "dpois(x=10,           \n",
        "      lambda=10)"
      ]
    },
    {
      "cell_type": "markdown",
      "metadata": {
        "_uuid": "1d0cf7040d3e1daaf6264ba1b3a6b521a13b1e8b",
        "id": "Y8g1ZAA-WO24"
      },
      "source": [
        "# Wrap Up"
      ]
    },
    {
      "cell_type": "markdown",
      "metadata": {
        "_uuid": "5a836af96fa689e8d1f284c2ba43754cb937a06c",
        "id": "nPZ3g6GJWO24"
      },
      "source": [
        "R contains built in functions that make it easy to work with a wide range of probability distributions, including [many that we did not discuss](https://en.wikibooks.org/wiki/R_Programming/Probability_Distributions) in this lesson. Probability distribution functions are useful for generating random data, modeling random events and aiding with statistical tests and analysis.\n",
        "\n",
        "In the next few lessons we'll build on the principles we've covered thus far and learn to carry out common statistical operations and tests in R."
      ]
    },
    {
      "cell_type": "markdown",
      "metadata": {
        "_uuid": "ab2351178bd0a91c85daafebed855dd2fd41e5e3",
        "id": "Zhyfz4RCWO24"
      },
      "source": [
        "# Next Lesson: [Intro to R Part 23: Confidence Intervals](https://www.kaggle.com/hamelg/intro-to-r-part-23-confidence-intervals)\n",
        "[back to index](https://www.kaggle.com/hamelg/intro-to-r-index)"
      ]
    },
    {
      "cell_type": "markdown",
      "metadata": {
        "_uuid": "7075033a9026b2cdef262a3b0e2d2e54d8794748",
        "id": "C5HyWmBCWO24"
      },
      "source": []
    },
    {
      "cell_type": "markdown",
      "metadata": {
        "_uuid": "fe5062574a10cf5cb69021a70ab6f93e17d5732a",
        "id": "ggYB0xXbWO25"
      },
      "source": [
        "# Exercises\n",
        "\n",
        "To do the exercises, fork this notebook and then fill in and run the code boxes according to the exercise instructions."
      ]
    },
    {
      "cell_type": "markdown",
      "metadata": {
        "_uuid": "a1158418a5bd691da1378c34049d31dfd9b85f94",
        "id": "pUaR5UwaWO25"
      },
      "source": [
        "### Exercise #1\n",
        "In the sport of basketball, shooters get to take uncontested shots called free throws when they are fouled by opposing players in certain circumstances. Great shooters can make upwards of 90% of their free throws. It is not uncommon for star players to take as many as 10 free throws in a game.\n",
        "\n",
        "Use pbinom() to check the probability that a 90% free throw shooter makes exactly 9 or more free throws out of a sample of 10 trials. \n",
        "\n",
        "*Note that since we'd like to include 9 in the result, so we have to check for the probability of all outcomes above 8.*"
      ]
    },
    {
      "cell_type": "code",
      "execution_count": null,
      "metadata": {
        "_kg_hide-output": true,
        "_uuid": "fff1a2a0dac63895b39a0cae7f0543c38a3a65b2",
        "id": "8ebgSTvBWO25",
        "outputId": "09a3eb1d-32c8-475b-ef9d-4a01f392cc7f"
      },
      "outputs": [
        {
          "data": {
            "text/html": [
              "'Your Code Here!'"
            ],
            "text/latex": [
              "'Your Code Here!'"
            ],
            "text/markdown": [
              "'Your Code Here!'"
            ],
            "text/plain": [
              "[1] \"Your Code Here!\""
            ]
          },
          "metadata": {},
          "output_type": "display_data"
        }
      ],
      "source": [
        "\"Your Code Here!\""
      ]
    },
    {
      "cell_type": "markdown",
      "metadata": {
        "_uuid": "915483ee807b092e2eda52f068594383ba7b6b90",
        "id": "L2Y-TgqbWO25"
      },
      "source": [
        "### Exercise #2\n",
        "Even average shooters in the NBA achieve free throw rates around 75%, but over the course of long games and many trials, a few percentage points can add up. Check the probability that a 75% free throw shooter makes 9 or more free throws on 10 trials."
      ]
    },
    {
      "cell_type": "code",
      "execution_count": null,
      "metadata": {
        "_kg_hide-output": true,
        "_uuid": "227db923fbed173b47e9f477ed2b57a1e2b50d97",
        "id": "gJTi9c32WO26",
        "outputId": "2e918aa6-8397-4cec-e427-4f2b4c249753"
      },
      "outputs": [
        {
          "data": {
            "text/html": [
              "'Your Code Here!'"
            ],
            "text/latex": [
              "'Your Code Here!'"
            ],
            "text/markdown": [
              "'Your Code Here!'"
            ],
            "text/plain": [
              "[1] \"Your Code Here!\""
            ]
          },
          "metadata": {},
          "output_type": "display_data"
        }
      ],
      "source": [
        "\"Your Code Here!\""
      ]
    },
    {
      "cell_type": "markdown",
      "metadata": {
        "_uuid": "56f3469f0f92c59b3265893d99f2fa4603e84273",
        "id": "G5UngKpaWO26"
      },
      "source": [
        "### Exercise #3\n",
        "From the previous exercise we discovered that even an average shooter makes 9 of 10 free throws or more about 25% of the time. This means in any given game, there's a decent chance that an average shooter will make free throws at a higher rate an elite shooter. But what about over the course of a season? Repeat exercise 1 and 2, but this time check the probability of making 90 or more free throws on 100 trials."
      ]
    },
    {
      "cell_type": "code",
      "execution_count": null,
      "metadata": {
        "_kg_hide-output": true,
        "_uuid": "e61bc093042a8c19f4f176f2b06a58b463a7c160",
        "id": "fiqFIsRRWO26",
        "outputId": "3fc807a9-71df-4e18-d1f4-791dda55f648"
      },
      "outputs": [
        {
          "data": {
            "text/html": [
              "'Your Code Here!'"
            ],
            "text/latex": [
              "'Your Code Here!'"
            ],
            "text/markdown": [
              "'Your Code Here!'"
            ],
            "text/plain": [
              "[1] \"Your Code Here!\""
            ]
          },
          "metadata": {},
          "output_type": "display_data"
        }
      ],
      "source": [
        "\"Your Code Here!\""
      ]
    },
    {
      "cell_type": "markdown",
      "metadata": {
        "_uuid": "a2e92cd72574d9deecd3ecef01c54d888b3edcb4",
        "id": "9iPHNVn-WO26"
      },
      "source": [
        "The results above show that while an average shooter may outperform a great shooter in any particular game, over the course of many games, the chances that an average shooter makes 90% of his free throws or more is practically zero."
      ]
    },
    {
      "cell_type": "markdown",
      "metadata": {
        "_uuid": "9e3106f3e7be8320dfbfd2019cddd434379aaf62",
        "id": "PpnzEhfOWO27"
      },
      "source": [
        "## Exercise Solutions"
      ]
    },
    {
      "cell_type": "code",
      "execution_count": null,
      "metadata": {
        "_kg_hide-input": true,
        "_kg_hide-output": true,
        "_uuid": "4a858bf9202378f9ebd068f610cc084baaec0bc2",
        "id": "yZ9vSFRyWO27",
        "outputId": "2a76ff06-d794-4ad4-e0d3-6974180b8995"
      },
      "outputs": [
        {
          "data": {
            "text/html": [
              "0.7360989291"
            ],
            "text/latex": [
              "0.7360989291"
            ],
            "text/markdown": [
              "0.7360989291"
            ],
            "text/plain": [
              "[1] 0.7360989"
            ]
          },
          "metadata": {},
          "output_type": "display_data"
        },
        {
          "data": {
            "text/html": [
              "0.244025230407715"
            ],
            "text/latex": [
              "0.244025230407715"
            ],
            "text/markdown": [
              "0.244025230407715"
            ],
            "text/plain": [
              "[1] 0.2440252"
            ]
          },
          "metadata": {},
          "output_type": "display_data"
        },
        {
          "data": {
            "text/html": [
              "0.583155512266492"
            ],
            "text/latex": [
              "0.583155512266492"
            ],
            "text/markdown": [
              "0.583155512266492"
            ],
            "text/plain": [
              "[1] 0.5831555"
            ]
          },
          "metadata": {},
          "output_type": "display_data"
        },
        {
          "data": {
            "text/html": [
              "0.000137100563167951"
            ],
            "text/latex": [
              "0.000137100563167951"
            ],
            "text/markdown": [
              "0.000137100563167951"
            ],
            "text/plain": [
              "[1] 0.0001371006"
            ]
          },
          "metadata": {},
          "output_type": "display_data"
        }
      ],
      "source": [
        "# 1 \n",
        "set.seed(12)\n",
        "\n",
        "pbinom(q = 8,\n",
        "      size = 10,\n",
        "      prob = 0.9,\n",
        "      lower.tail=FALSE)\n",
        "\n",
        "\n",
        "# 2 \n",
        "\n",
        "pbinom(q = 8,\n",
        "      size = 10,\n",
        "      prob = 0.75,\n",
        "      lower.tail=FALSE)\n",
        "\n",
        "# 3\n",
        "\n",
        "pbinom(q = 89,\n",
        "      size = 100,\n",
        "      prob = 0.9,\n",
        "      lower.tail=FALSE)\n",
        "\n",
        "pbinom(q = 89,\n",
        "      size = 100,\n",
        "      prob = 0.75,\n",
        "      lower.tail=FALSE)"
      ]
    }
  ],
  "metadata": {
    "kernelspec": {
      "display_name": "R",
      "language": "R",
      "name": "ir"
    },
    "language_info": {
      "codemirror_mode": "r",
      "file_extension": ".r",
      "mimetype": "text/x-r-source",
      "name": "R",
      "pygments_lexer": "r",
      "version": "3.4.2"
    },
    "colab": {
      "provenance": [],
      "include_colab_link": true
    }
  },
  "nbformat": 4,
  "nbformat_minor": 0
}