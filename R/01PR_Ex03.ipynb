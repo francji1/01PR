{
  "nbformat": 4,
  "nbformat_minor": 0,
  "metadata": {
    "colab": {
      "private_outputs": true,
      "provenance": [],
      "authorship_tag": "ABX9TyOX+vHREr9XR8gLdDomH5NP",
      "include_colab_link": true
    },
    "kernelspec": {
      "name": "ir",
      "display_name": "R"
    },
    "language_info": {
      "name": "R"
    }
  },
  "cells": [
    {
      "cell_type": "markdown",
      "metadata": {
        "id": "view-in-github",
        "colab_type": "text"
      },
      "source": [
        "<a href=\"https://colab.research.google.com/github/francji1/01PR/blob/main/R/01PR_Ex03.ipynb\" target=\"_parent\"><img src=\"https://colab.research.google.com/assets/colab-badge.svg\" alt=\"Open In Colab\"/></a>"
      ]
    },
    {
      "cell_type": "raw",
      "metadata": {
        "id": "36e0ecfe"
      },
      "source": [
        "# 01PR - Úprava a vizualizace dat"
      ]
    },
    {
      "cell_type": "code",
      "source": [],
      "metadata": {
        "id": "go4ZugCYOwSv"
      },
      "execution_count": null,
      "outputs": []
    },
    {
      "cell_type": "markdown",
      "source": [
        "### Settings and requirements:"
      ],
      "metadata": {
        "id": "PsiJfg7-OwvD"
      }
    },
    {
      "cell_type": "code",
      "source": [
        "######################\n",
        "# get requirements for Lecture 1\n",
        "list_of_packages <- c(\"tidyverse\", \"ascentTraining\",\"GGally\",\"knitr\",\"pander\")\n",
        "missing_packages <- list_of_packages[!(list_of_packages %in% installed.packages()[,\"Package\"])]\n",
        "if(length(missing_packages)) install.packages(missing_packages)\n",
        "lapply(list_of_packages, library, character.only = TRUE)\n",
        "\n",
        "######################\n",
        "# check our settings\n",
        "#getwd()\n",
        "#print(.libPaths())\n",
        "print(sessionInfo())\n",
        "print(version)"
      ],
      "metadata": {
        "id": "CdEwWHF0OvY3"
      },
      "execution_count": null,
      "outputs": []
    },
    {
      "cell_type": "code",
      "execution_count": null,
      "metadata": {
        "name": "setup",
        "tags": [
          "remove_cell"
        ],
        "id": "5ef81a04"
      },
      "outputs": [],
      "source": [
        "knitr::opts_chunk$set(echo = FALSE)"
      ]
    },
    {
      "cell_type": "code",
      "source": [],
      "metadata": {
        "id": "DIVqEH56Oudb"
      },
      "execution_count": null,
      "outputs": []
    },
    {
      "cell_type": "markdown",
      "metadata": {
        "id": "1e437db5"
      },
      "source": [
        "## Popis úlohy\n",
        "\n",
        "V tomto úkolu je cílem provést předzpracování datového souboru, jeho vizualizaci a jednoduchou lineární regresní úlohu, kde budeme modelovat spotřebu automobilu v závislosti na jeho váze. K tomuto účelu poslouží datový souboru *auto\\_mpg* z balíčku ascentTraining  který obsahuje 406 pozorování o 9 proměnných. Dataset byl prvně použit americkou statistickou společností v roce  1983 a lze ho též najít na  UCI Machine Learning Repository, případně na kaggle.com s několika pracovními sešity.\n"
      ]
    },
    {
      "cell_type": "code",
      "source": [
        "? auto_mpg \n",
        "auta <- auto_mpg"
      ],
      "metadata": {
        "id": "zpN5ZMHOQRZj"
      },
      "execution_count": null,
      "outputs": []
    },
    {
      "cell_type": "code",
      "execution_count": null,
      "metadata": {
        "lines_to_next_cell": 2,
        "tags": [
          "remove_input"
        ],
        "id": "c56fa21e"
      },
      "outputs": [],
      "source": [
        "knitr::kable(head(auto_mpg))\n",
        "#pander(head(auto_mpg))"
      ]
    },
    {
      "cell_type": "code",
      "source": [
        "auto_mpg %>% head()"
      ],
      "metadata": {
        "id": "oyq88EQIQxPO"
      },
      "execution_count": null,
      "outputs": []
    },
    {
      "cell_type": "markdown",
      "source": [
        "## Úprava dat"
      ],
      "metadata": {
        "id": "hR1dU0EhSqZK"
      }
    },
    {
      "cell_type": "markdown",
      "metadata": {
        "id": "f65bd53f"
      },
      "source": [
        "## Otázka 01\n",
        "\n",
        "Zjistěte, zdali data neobsahují chybějící hodnoty (NA*). Pokud ano, tak rozhodněte zdali můžete příslušná pozorování z dat odstranit a proč. Které proměnné jsou kvantitativní a které kvalitativní? Jeli možno některé zařadit do obou skupin, pro kterou se rozhodnete? Které proměnné budete brát jako faktorové a proč? Spočtěte základní statistiky pro jednotlivé proměnné.\n"
      ]
    },
    {
      "cell_type": "code",
      "execution_count": null,
      "metadata": {
        "lines_to_next_cell": 0,
        "tags": [
          "remove_input"
        ],
        "id": "f4cf4858"
      },
      "outputs": [],
      "source": [
        "colSums(is.na(auta))"
      ]
    },
    {
      "cell_type": "markdown",
      "metadata": {
        "id": "07a085bd"
      },
      "source": []
    },
    {
      "cell_type": "markdown",
      "source": [
        "## Otázka 02\n",
        "\n",
        "Proměnnou *mpg* nahraďte proměnnou *spotreba* kde bude místo počtu ujetých mil na galon paliva uvedena hodnota počet litrů na 100 Km.  Proměnnou *cylinders* přejmenujte na  *pocet\\_valcu*. Proměnnou *displacement* přejmenujte na  *zdvihovy\\_objem* a převeďte z kubických palců na litry. Proměnnou  *horsepower* přejmenujte na *výkon* a převeďte na kW. Proměnnou *weight* přejmenujte na  *hmotnost* a převeďte z liber na kilogramy. Odstraňte proměnnou *acceleration*. Proměnnou *model.year* přejmenujte na *rok\\_vyroby* a upravte ji tak, aby její hodnoty popisovaly celý rok 19XX. Proměnnou *origin* přejmenujte na *puvod* a upravte ji tak, že místo 1 bude USA, místo 2 EUR a místo 3 JAP. Z proměnné  *car.name* vytvořte proměnnou  *vyrobce* podle prvního slova obsaženého v řetězci proměnné  *car.name*."
      ],
      "metadata": {
        "id": "5y_6kmifRUJM"
      }
    },
    {
      "cell_type": "code",
      "execution_count": null,
      "metadata": {
        "tags": [
          "remove_input"
        ],
        "id": "ff8d4e91"
      },
      "outputs": [],
      "source": []
    },
    {
      "cell_type": "markdown",
      "metadata": {
        "id": "b1cdb7fa"
      },
      "source": [
        "# Vizualizace dat\n",
        "\n",
        "## Otázka 03 \n",
        "\n",
        "Vykreslete scatterploty pro všechny numerické proměnné. Pro proměnné *spotreba* a *hmotnost* vykreslete histogramy spolu s jádrovými odhady hustot. Pro proměnné *pocet\\_valcu* a *rok\\_vyroby* vykreslete krabicové diagramy, kde odezvou bude *spotreba*.  Je z těchto grafů vidět, že některá auta mají jinou, než očekávanou spotřebu? Navrhněte úpravu těchto dvou proměných (případně úpravu datasetu) tak, aby obě proměnné  *pocet\\_valcu* a *rok\\_vyroby* byly faktorové a obsahovaly právě 3 úrovně. Pro takto upravená data vykreslete místo výše zmííněných boxplotů violin ploty."
      ]
    },
    {
      "cell_type": "code",
      "execution_count": null,
      "metadata": {
        "lines_to_next_cell": 2,
        "tags": [
          "remove_input"
        ],
        "id": "9c6a9986"
      },
      "outputs": [],
      "source": []
    },
    {
      "cell_type": "markdown",
      "metadata": {
        "lines_to_next_cell": 0,
        "id": "cdbffc50"
      },
      "source": [
        "## Otázka 04\n",
        "\n",
        "Pro kombinace faktorizovaných proměnných *pocet\\_valcu*, *rok\\_vyroby* a *puvod* vykreslete spotřebu aut, aby bylo na obrázku vidět, jestli se liší spotřeba u aut pocházejících z různých kontinentů v závislosti na počtu válců, roku výroby a naopak. Zobrazte jen kombinace s relevantním počtem dat."
      ]
    },
    {
      "cell_type": "code",
      "execution_count": null,
      "metadata": {
        "tags": [
          "remove_input"
        ],
        "id": "d5208964"
      },
      "outputs": [],
      "source": []
    },
    {
      "cell_type": "markdown",
      "metadata": {
        "lines_to_next_cell": 0,
        "id": "37583820"
      },
      "source": [
        "## Otázka 05\n",
        "\n",
        "Pro auta výrobce Chrysler vykreslete závislost spotřeby na váze automobilu, kde jednotlivé události označíte barvou podle počtu válců a velikost bodů v grafu bude odpovídat objemu motoru."
      ]
    },
    {
      "cell_type": "code",
      "execution_count": null,
      "metadata": {
        "tags": [
          "remove_input"
        ],
        "id": "c4ba5f59"
      },
      "outputs": [],
      "source": [
        "\n"
      ]
    },
    {
      "cell_type": "code",
      "source": [],
      "metadata": {
        "id": "fbr-h6Y7PV28"
      },
      "execution_count": null,
      "outputs": []
    },
    {
      "cell_type": "code",
      "source": [],
      "metadata": {
        "id": "iQL0DFPVPV7N"
      },
      "execution_count": null,
      "outputs": []
    }
  ]
}