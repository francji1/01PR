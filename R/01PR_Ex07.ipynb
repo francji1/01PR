{
  "nbformat": 4,
  "nbformat_minor": 0,
  "metadata": {
    "colab": {
      "private_outputs": true,
      "provenance": [],
      "collapsed_sections": [],
      "authorship_tag": "ABX9TyPuVk/jLDtyeyFLhsGgjQpE",
      "include_colab_link": true
    },
    "kernelspec": {
      "name": "ir",
      "display_name": "R"
    },
    "language_info": {
      "name": "R"
    }
  },
  "cells": [
    {
      "cell_type": "markdown",
      "metadata": {
        "id": "view-in-github",
        "colab_type": "text"
      },
      "source": [
        "<a href=\"https://colab.research.google.com/github/francji1/01PR/blob/main/R/01PR_Ex07.ipynb\" target=\"_parent\"><img src=\"https://colab.research.google.com/assets/colab-badge.svg\" alt=\"Open In Colab\"/></a>"
      ]
    },
    {
      "cell_type": "code",
      "execution_count": null,
      "metadata": {
        "id": "pgm2YQOCpNe1"
      },
      "outputs": [],
      "source": []
    },
    {
      "cell_type": "markdown",
      "source": [
        "# 01PR: Úvod do R - Cvičení 07"
      ],
      "metadata": {
        "id": "WoLFPfe5pN6I"
      }
    },
    {
      "cell_type": "markdown",
      "source": [
        "V tomto cvičení použijeme jeden z jenznámějších datasetů BostonHousing (možno získat z `library(mlbench)`  a `data(BostonHousing2)`)."
      ],
      "metadata": {
        "id": "qRht_48XpYdO"
      }
    },
    {
      "cell_type": "markdown",
      "source": [
        "Ukoly:\n",
        "\n",
        "* Načtěte si data a vytvořte funkci, která pro libovolné dvě zadané numerické proměnné zobrazí jejich scatterplot, a velikost bodu bude odpovídat třetí numerické proměnné. Jako výchozí vezměte `cmdev`. Volitelně bude moci se přidat faktorová proměnná, která ovlivní barvu jednolivých bodů.\n",
        "\n",
        "* Upravte předchozí funkci tak, aby umožnila vykreslit ve scatterplotu i linenární odhad (`y~x`)spolu s predikčním konfidenčním intervalem. Pro osu *x* použijte proměnnou `rm`, pro osu y `cmdev`, za faktorovou proměnnou (jak pro typ tak pro barvu bodu) zvolte `chas` a velikost bodu ať odpovídá `crim`.\n",
        "\n",
        "* Napište cyklus, který vykreslí předchozí obrázek přes numerické proměnné na ose `x`: (`rm`,`lstat`,`crim`,`nox`) a na ose `y`: (`cmdev`) a pro vybranou faktorovou proměnnou vykreslí předchozí obrázky a uloží je do souboru.\n",
        "\n",
        "* Napište funkci, která vybranou proměnnou vykeslí do mapy podle souřadnic (`lon` a `lat`) a na vstupu bude numerická proměnná podle jejíž hodnoty  se bude vykreslovat intenzita barvy."
      ],
      "metadata": {
        "id": "ZHNkcdl-qyQv"
      }
    },
    {
      "cell_type": "code",
      "source": [
        "install.packages(\"mlbench\")\n",
        "install.packages(\"GGally\")\n",
        "library(mlbench)\n",
        "library(tidyverse)\n",
        "library(GGally)"
      ],
      "metadata": {
        "id": "MQBASqdYpXyt"
      },
      "execution_count": null,
      "outputs": []
    },
    {
      "cell_type": "code",
      "source": [
        "data(BostonHousing2)"
      ],
      "metadata": {
        "id": "FpHxTq82pu_j"
      },
      "execution_count": null,
      "outputs": []
    },
    {
      "cell_type": "code",
      "source": [
        "# ? BostonHousing2"
      ],
      "metadata": {
        "id": "b5v9D_vFtW6n"
      },
      "execution_count": null,
      "outputs": []
    },
    {
      "cell_type": "markdown",
      "source": [
        "**Variables** \n",
        "\n",
        "* crim:     per capita crime rate by town     \n",
        "* zn: proportion of residential land zoned for lots over 25,000 sq.ft\n",
        "* indus:    proportion of non-retail business acres per town \n",
        "* chas:     Charles River dummy variable (= 1 if tract bounds river; 0 otherwise) \n",
        "* nox:      nitric oxides concentration (parts per 10 million)     \n",
        "* rm: average number of rooms per dwelling      \n",
        "* age:      proportion of owner-occupied units built prior to 1940 \n",
        "* dis:      weighted distances to five Boston employment centres   \n",
        "* rad:      index of accessibility to radial highways \n",
        "* tax:      full-value property-tax rate per USD 10,000     \n",
        "* ptratio:  pupil-teacher ratio by town\n",
        "* b:  1000(B - 0.63)^2 where B is the proportion of blacks by town    \n",
        "* lstat:    percentage of lower status of the population \n",
        "* medv:     median value of owner-occupied homes in USD 1000's   \n",
        "* cmedv:  corrected median value of owner-occupied homes in USD 1000's \n",
        "* town:   name of town\n",
        "* tract:  census tract\n",
        "* lon:    longitude of census tract\n",
        "* lat:    latitude of census tract "
      ],
      "metadata": {
        "id": "NpgpLdgKbmwx"
      }
    },
    {
      "cell_type": "code",
      "source": [
        "summary(BostonHousing2)"
      ],
      "metadata": {
        "id": "uOKaDwB0p_gL"
      },
      "execution_count": null,
      "outputs": []
    },
    {
      "cell_type": "code",
      "source": [],
      "metadata": {
        "id": "bQE_G4xegO5d"
      },
      "execution_count": null,
      "outputs": []
    },
    {
      "cell_type": "code",
      "source": [
        "ggpairs(BostonHousing2[,6:19])"
      ],
      "metadata": {
        "id": "lu2lyvDHfpt2"
      },
      "execution_count": null,
      "outputs": []
    },
    {
      "cell_type": "code",
      "source": [
        "myboston = BostonHousing2 %>% \n",
        "  mutate(town = as.factor(town),\n",
        "   rad = as.factor(rad),\n",
        "   chas = as.factor(chas))"
      ],
      "metadata": {
        "id": "R_XQ798T0bvI"
      },
      "execution_count": null,
      "outputs": []
    },
    {
      "cell_type": "code",
      "source": [
        "names(myboston)"
      ],
      "metadata": {
        "id": "IlQ4lOfE267O"
      },
      "execution_count": null,
      "outputs": []
    },
    {
      "cell_type": "code",
      "source": [
        "str(myboston)"
      ],
      "metadata": {
        "id": "qkJA76nObUnA"
      },
      "execution_count": null,
      "outputs": []
    },
    {
      "cell_type": "markdown",
      "source": [
        "3 možnosti jak ve funkci volat nazev proměnné v data framu:"
      ],
      "metadata": {
        "id": "25jiUO9XkDyG"
      }
    },
    {
      "cell_type": "code",
      "source": [
        "# Plot without function:\n",
        "var1 = \"lon\"\n",
        "var2 = \"lat\"\n",
        "var3 = \"cmedv\"\n",
        "\n",
        "ggplot(BostonHousing2, aes(x=get(var1), y=get(var2))) + \n",
        "  geom_point(aes(size=get(var3)))"
      ],
      "metadata": {
        "id": "oW4IzYF8kQ0g"
      },
      "execution_count": null,
      "outputs": []
    },
    {
      "cell_type": "markdown",
      "source": [
        "## 1. Použít textový název a převést ho na název proměnné pomocí get()"
      ],
      "metadata": {
        "id": "sKOzWDN-kRH9"
      }
    },
    {
      "cell_type": "code",
      "source": [
        "plot_my_scatter = function(df,var1,var2,var3 = \"cmedv\",var4 = \"rad\",var5=\"chas\",plot_lm = F){\n",
        "  my_plot = ggplot(df, aes(x=get(var1), y=get(var2),shape=get(var5), size=get(var3), color=get(var4))) + \n",
        "    geom_point() +\n",
        "    labs(x = var1, y = var2, size = var3, colour = var4, shape = var5)\n",
        "  if (plot_lm) {my_plot = my_plot + geom_smooth(method=lm, se=F)}\n",
        "  my_plot\n",
        "  }"
      ],
      "metadata": {
        "id": "uuIIFGjRqSXh"
      },
      "execution_count": null,
      "outputs": []
    },
    {
      "cell_type": "code",
      "source": [
        "var1 = \"lon\"\n",
        "var2 = \"lat\"\n",
        "var3 = \"cmedv\"\n",
        "var4 = \"rad\"\n",
        "var5 = \"chas\"\n",
        "\n",
        "plot_my_scatter(myboston,var1,var2,var3,plot_lm = T)"
      ],
      "metadata": {
        "id": "gc7V4ZZSzamJ"
      },
      "execution_count": null,
      "outputs": []
    },
    {
      "cell_type": "code",
      "source": [
        "var1 = \"rm\"\n",
        "var2 = \"cmedv\"\n",
        "var3 = \"crim\"\n",
        "var4 = \"chas\"\n",
        "var5 = \"chas\"\n",
        "\n",
        "plot_my_scatter(myboston,var1,var2,var3,var4,var5,plot_lm = T)"
      ],
      "metadata": {
        "id": "wL_YQ-g0e791"
      },
      "execution_count": null,
      "outputs": []
    },
    {
      "cell_type": "code",
      "source": [
        "var1 = \"nox\"\n",
        "var2 = \"cmedv\"\n",
        "var3 = \"crim\"\n",
        "var4 = \"rad\"\n",
        "var5 = \"chas\"\n",
        "\n",
        "plot_my_scatter(myboston,var1,var2,var3,plot_lm = F)"
      ],
      "metadata": {
        "id": "woBT3LzG68d5"
      },
      "execution_count": null,
      "outputs": []
    },
    {
      "cell_type": "markdown",
      "source": [
        "## 2. Použít názvy proměnných a vložit je do {{}}."
      ],
      "metadata": {
        "id": "A11bWfP7kddz"
      }
    },
    {
      "cell_type": "code",
      "source": [
        "plot_my_scatter2 = function(df,var1,var2,var3,var4,var5){\n",
        "  ggplot(df, aes(x={{var1}}, y={{var2}},size={{var3}},shape={{var5}}, color={{var4}})) + \n",
        "    geom_point()\n",
        "  }"
      ],
      "metadata": {
        "id": "OtRWZLNM4qmH"
      },
      "execution_count": null,
      "outputs": []
    },
    {
      "cell_type": "code",
      "source": [
        "plot_my_scatter2(myboston,lon,lat,cmedv,rad,chas)"
      ],
      "metadata": {
        "id": "_ebbl651i5aZ"
      },
      "execution_count": null,
      "outputs": []
    },
    {
      "cell_type": "code",
      "source": [],
      "metadata": {
        "id": "pIXyXGhvjIsg"
      },
      "execution_count": null,
      "outputs": []
    },
    {
      "cell_type": "markdown",
      "source": [
        "## 3. Použít názvy proměnných a zavolat j pomocí !!"
      ],
      "metadata": {
        "id": "OSfnKWVMkt89"
      }
    },
    {
      "cell_type": "code",
      "source": [
        "plot_my_scatter3 = function(df,var1,var2,var3,var4,var5){\n",
        "  ggplot(df, aes(x=!!var1, y=!!var2,size=!!var3,shape=!!var5, color=!!var4)) + \n",
        "    geom_point()\n",
        "  }"
      ],
      "metadata": {
        "id": "dbQjIoUnc6k1"
      },
      "execution_count": null,
      "outputs": []
    },
    {
      "cell_type": "code",
      "source": [
        "var1 = sym(\"nox\")\n",
        "var2 = sym(\"cmedv\")\n",
        "var3 = sym(\"crim\")\n",
        "var4 = sym(\"rad\")\n",
        "var5 = sym(\"chas\")\n",
        "\n",
        "plot_my_scatter3(myboston,var1,var2,var3,var4,var5)"
      ],
      "metadata": {
        "id": "zqBYuaahdpVy"
      },
      "execution_count": null,
      "outputs": []
    },
    {
      "cell_type": "code",
      "source": [],
      "metadata": {
        "id": "DuhjNxHrvowc"
      },
      "execution_count": null,
      "outputs": []
    },
    {
      "cell_type": "markdown",
      "source": [
        "Hint to plot map: https://rpubs.com/Mturgal/164857"
      ],
      "metadata": {
        "id": "MGMHNU0y8P59"
      }
    },
    {
      "cell_type": "code",
      "source": [
        "install.packages(\"ggmap\")\n",
        "install.packages(\"mapproj\")\n",
        "\n",
        "library(ggmap)\n",
        "library(mapproj)"
      ],
      "metadata": {
        "id": "2Dsh4KaS805t"
      },
      "execution_count": null,
      "outputs": []
    },
    {
      "cell_type": "code",
      "source": [
        "BostonLL <-c(-71.30, 42.00, -70.80, 42.40)\n",
        "map <- get_map(location = BostonLL, zoom = 11)"
      ],
      "metadata": {
        "id": "aY8Au_R38RjL"
      },
      "execution_count": null,
      "outputs": []
    },
    {
      "cell_type": "code",
      "source": [
        "mapPoints <- ggmap(map) +\n",
        "   geom_point(aes(x = lon, y = lat,color=crim),data = myboston, alpha = 0.7,size=3)+\n",
        "   scale_color_gradient(low=\"#9ebcda\",high=\"#8856a7\")+\n",
        "   labs(title=\"Median value of owner-occupied homes in $1000's\",y=\"Latitude\",x=\"Longtitude\",color=\"House Prices (in 1000$'s)\" )\n",
        "\n",
        "mapPoints"
      ],
      "metadata": {
        "id": "KcYzRzVT9DRj"
      },
      "execution_count": null,
      "outputs": []
    },
    {
      "cell_type": "code",
      "source": [
        "mapPoints <- ggmap(map) +\n",
        "   geom_point(data = myboston, aes(x=get(var1), y=get(var2),shape=get(var5), color=get(var4),size=get(var3)))+\n",
        "   labs(colour = var4, shape = var5, size = var3)\n",
        "mapPoints "
      ],
      "metadata": {
        "id": "sBcBSOqG9ZUL"
      },
      "execution_count": null,
      "outputs": []
    },
    {
      "cell_type": "code",
      "source": [
        "class(plot_my_scatter(myboston,var1,var2,var3))"
      ],
      "metadata": {
        "id": "9AkvB-bW-dMK"
      },
      "execution_count": null,
      "outputs": []
    },
    {
      "cell_type": "code",
      "source": [
        "class(   geom_point(aes(x = lon, y = lat,color=crim),data = myboston, alpha = 0.7,size=3))"
      ],
      "metadata": {
        "id": "7M3NzJKI-oX0"
      },
      "execution_count": null,
      "outputs": []
    },
    {
      "cell_type": "code",
      "source": [],
      "metadata": {
        "id": "kzXldJ_2-pvh"
      },
      "execution_count": null,
      "outputs": []
    }
  ]
}