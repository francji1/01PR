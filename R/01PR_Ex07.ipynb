{
  "nbformat": 4,
  "nbformat_minor": 0,
  "metadata": {
    "colab": {
      "private_outputs": true,
      "provenance": [],
      "authorship_tag": "ABX9TyPyuWGBdxiiOU9zX6pls9Jg",
      "include_colab_link": true
    },
    "kernelspec": {
      "name": "ir",
      "display_name": "R"
    },
    "language_info": {
      "name": "R"
    }
  },
  "cells": [
    {
      "cell_type": "markdown",
      "metadata": {
        "id": "view-in-github",
        "colab_type": "text"
      },
      "source": [
        "<a href=\"https://colab.research.google.com/github/francji1/01PR/blob/main/R/01PR_Ex07.ipynb\" target=\"_parent\"><img src=\"https://colab.research.google.com/assets/colab-badge.svg\" alt=\"Open In Colab\"/></a>"
      ]
    },
    {
      "cell_type": "code",
      "execution_count": null,
      "metadata": {
        "id": "pgm2YQOCpNe1"
      },
      "outputs": [],
      "source": []
    },
    {
      "cell_type": "markdown",
      "source": [
        "# 01PR: Úvod do R - Cvičení 07"
      ],
      "metadata": {
        "id": "WoLFPfe5pN6I"
      }
    },
    {
      "cell_type": "markdown",
      "source": [
        "V tomto cvičení použijeme jeden z jenznámějších datasetů BostonHousing (možno získat z `library(mlbench)`  a `data(BostonHousing2)`)."
      ],
      "metadata": {
        "id": "qRht_48XpYdO"
      }
    },
    {
      "cell_type": "markdown",
      "source": [
        "Ukoly:\n",
        "\n",
        "* Načtěte si data a vytvořte funkci, která pro libovolné dvě zadané numerické proměnné zobrazí jejich scatterplot, a velikost bodu bude odpovídat třetí numerické proměnné. Jako výchozí vezměte `cmdev`. Volitelně bude moci se přidat faktorová proměnná, která ovlivní barvu jednolivých bodů.\n",
        "\n",
        "* Přidejte volitelnou proměnnou, která vykreslí do scatterplotu lienární odhad spolu s predikčním konfidenčním intervalem.\n",
        "\n",
        "* Napište cyklus, který přes všechny rozumné numerické proměnné (`cmdev` jako výchozí target pro velikost bodů) a pro vybranou faktorovou proměnnou vykreslí předchozí obrázky a uloží je do souboru.\n",
        "\n",
        "* Napište funkci, která vybranou proměnnou vykeslí do mapy podle souřadnic (`lon` a `lat`) a na vstupu bude numerická proměnná podle jejíž hodnoty  se bude vykreslovat intenzita barvy."
      ],
      "metadata": {
        "id": "ZHNkcdl-qyQv"
      }
    },
    {
      "cell_type": "code",
      "source": [
        "install.packages(\"mlbench\")\n",
        "library(mlbench)"
      ],
      "metadata": {
        "id": "MQBASqdYpXyt"
      },
      "execution_count": null,
      "outputs": []
    },
    {
      "cell_type": "code",
      "source": [
        "data(BostonHousing2)"
      ],
      "metadata": {
        "id": "FpHxTq82pu_j"
      },
      "execution_count": null,
      "outputs": []
    },
    {
      "cell_type": "code",
      "source": [
        "? BostonHousing2"
      ],
      "metadata": {
        "id": "b5v9D_vFtW6n"
      },
      "execution_count": null,
      "outputs": []
    },
    {
      "cell_type": "code",
      "source": [
        "summary(BostonHousing2)"
      ],
      "metadata": {
        "id": "uOKaDwB0p_gL"
      },
      "execution_count": null,
      "outputs": []
    },
    {
      "cell_type": "code",
      "source": [],
      "metadata": {
        "id": "uuIIFGjRqSXh"
      },
      "execution_count": null,
      "outputs": []
    }
  ]
}